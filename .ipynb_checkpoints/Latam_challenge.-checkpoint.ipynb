{
 "cells": [
  {
   "cell_type": "markdown",
   "id": "df3a58e8",
   "metadata": {
    "heading_collapsed": true
   },
   "source": [
    "# Imports"
   ]
  },
  {
   "cell_type": "code",
   "execution_count": 1,
   "id": "d5f0d709",
   "metadata": {
    "hidden": true
   },
   "outputs": [],
   "source": [
    "import pandas as pd\n",
    "import numpy as np\n",
    "import matplotlib.pyplot as plt\n",
    "import seaborn as sns\n",
    "import datetime as dt\n",
    "from scipy.sparse import csr_matrix\n",
    "import warnings\n",
    "warnings.filterwarnings(\"ignore\")\n",
    "from sklearn import set_config; set_config(display='diagram')"
   ]
  },
  {
   "cell_type": "code",
   "execution_count": 2,
   "id": "9a31fb19",
   "metadata": {
    "hidden": true
   },
   "outputs": [],
   "source": [
    "from sklearn.model_selection import train_test_split\n",
    "from sklearn.preprocessing import MinMaxScaler, StandardScaler\n",
    "from sklearn.pipeline import Pipeline, make_pipeline\n",
    "from sklearn.compose import ColumnTransformer, make_column_transformer, make_column_selector\n",
    "from sklearn.impute import SimpleImputer\n",
    "from sklearn.preprocessing import OneHotEncoder\n",
    "from sklearn.ensemble import RandomForestClassifier\n",
    "from sklearn.model_selection import cross_val_score\n",
    "from sklearn.linear_model import Ridge, Lasso, LinearRegression, LogisticRegression\n",
    "from sklearn.model_selection import RandomizedSearchCV\n"
   ]
  },
  {
   "cell_type": "markdown",
   "id": "87faca3d",
   "metadata": {
    "heading_collapsed": true
   },
   "source": [
    "# Load Data"
   ]
  },
  {
   "cell_type": "code",
   "execution_count": 3,
   "id": "7db498d9",
   "metadata": {
    "hidden": true
   },
   "outputs": [],
   "source": [
    "df = pd.read_csv('dataset_SCL.csv', low_memory=False)"
   ]
  },
  {
   "cell_type": "code",
   "execution_count": 4,
   "id": "014a7d7b",
   "metadata": {
    "hidden": true
   },
   "outputs": [
    {
     "data": {
      "text/html": [
       "<div>\n",
       "<style scoped>\n",
       "    .dataframe tbody tr th:only-of-type {\n",
       "        vertical-align: middle;\n",
       "    }\n",
       "\n",
       "    .dataframe tbody tr th {\n",
       "        vertical-align: top;\n",
       "    }\n",
       "\n",
       "    .dataframe thead th {\n",
       "        text-align: right;\n",
       "    }\n",
       "</style>\n",
       "<table border=\"1\" class=\"dataframe\">\n",
       "  <thead>\n",
       "    <tr style=\"text-align: right;\">\n",
       "      <th></th>\n",
       "      <th>Fecha-I</th>\n",
       "      <th>Vlo-I</th>\n",
       "      <th>Ori-I</th>\n",
       "      <th>Des-I</th>\n",
       "      <th>Emp-I</th>\n",
       "      <th>Fecha-O</th>\n",
       "      <th>Vlo-O</th>\n",
       "      <th>Ori-O</th>\n",
       "      <th>Des-O</th>\n",
       "      <th>Emp-O</th>\n",
       "      <th>DIA</th>\n",
       "      <th>MES</th>\n",
       "      <th>AÑO</th>\n",
       "      <th>DIANOM</th>\n",
       "      <th>TIPOVUELO</th>\n",
       "      <th>OPERA</th>\n",
       "      <th>SIGLAORI</th>\n",
       "      <th>SIGLADES</th>\n",
       "    </tr>\n",
       "  </thead>\n",
       "  <tbody>\n",
       "    <tr>\n",
       "      <th>0</th>\n",
       "      <td>2017-01-01 23:30:00</td>\n",
       "      <td>226</td>\n",
       "      <td>SCEL</td>\n",
       "      <td>KMIA</td>\n",
       "      <td>AAL</td>\n",
       "      <td>2017-01-01 23:33:00</td>\n",
       "      <td>226</td>\n",
       "      <td>SCEL</td>\n",
       "      <td>KMIA</td>\n",
       "      <td>AAL</td>\n",
       "      <td>1</td>\n",
       "      <td>1</td>\n",
       "      <td>2017</td>\n",
       "      <td>Domingo</td>\n",
       "      <td>I</td>\n",
       "      <td>American Airlines</td>\n",
       "      <td>Santiago</td>\n",
       "      <td>Miami</td>\n",
       "    </tr>\n",
       "    <tr>\n",
       "      <th>1</th>\n",
       "      <td>2017-01-02 23:30:00</td>\n",
       "      <td>226</td>\n",
       "      <td>SCEL</td>\n",
       "      <td>KMIA</td>\n",
       "      <td>AAL</td>\n",
       "      <td>2017-01-02 23:39:00</td>\n",
       "      <td>226</td>\n",
       "      <td>SCEL</td>\n",
       "      <td>KMIA</td>\n",
       "      <td>AAL</td>\n",
       "      <td>2</td>\n",
       "      <td>1</td>\n",
       "      <td>2017</td>\n",
       "      <td>Lunes</td>\n",
       "      <td>I</td>\n",
       "      <td>American Airlines</td>\n",
       "      <td>Santiago</td>\n",
       "      <td>Miami</td>\n",
       "    </tr>\n",
       "    <tr>\n",
       "      <th>2</th>\n",
       "      <td>2017-01-03 23:30:00</td>\n",
       "      <td>226</td>\n",
       "      <td>SCEL</td>\n",
       "      <td>KMIA</td>\n",
       "      <td>AAL</td>\n",
       "      <td>2017-01-03 23:39:00</td>\n",
       "      <td>226</td>\n",
       "      <td>SCEL</td>\n",
       "      <td>KMIA</td>\n",
       "      <td>AAL</td>\n",
       "      <td>3</td>\n",
       "      <td>1</td>\n",
       "      <td>2017</td>\n",
       "      <td>Martes</td>\n",
       "      <td>I</td>\n",
       "      <td>American Airlines</td>\n",
       "      <td>Santiago</td>\n",
       "      <td>Miami</td>\n",
       "    </tr>\n",
       "    <tr>\n",
       "      <th>3</th>\n",
       "      <td>2017-01-04 23:30:00</td>\n",
       "      <td>226</td>\n",
       "      <td>SCEL</td>\n",
       "      <td>KMIA</td>\n",
       "      <td>AAL</td>\n",
       "      <td>2017-01-04 23:33:00</td>\n",
       "      <td>226</td>\n",
       "      <td>SCEL</td>\n",
       "      <td>KMIA</td>\n",
       "      <td>AAL</td>\n",
       "      <td>4</td>\n",
       "      <td>1</td>\n",
       "      <td>2017</td>\n",
       "      <td>Miercoles</td>\n",
       "      <td>I</td>\n",
       "      <td>American Airlines</td>\n",
       "      <td>Santiago</td>\n",
       "      <td>Miami</td>\n",
       "    </tr>\n",
       "    <tr>\n",
       "      <th>4</th>\n",
       "      <td>2017-01-05 23:30:00</td>\n",
       "      <td>226</td>\n",
       "      <td>SCEL</td>\n",
       "      <td>KMIA</td>\n",
       "      <td>AAL</td>\n",
       "      <td>2017-01-05 23:28:00</td>\n",
       "      <td>226</td>\n",
       "      <td>SCEL</td>\n",
       "      <td>KMIA</td>\n",
       "      <td>AAL</td>\n",
       "      <td>5</td>\n",
       "      <td>1</td>\n",
       "      <td>2017</td>\n",
       "      <td>Jueves</td>\n",
       "      <td>I</td>\n",
       "      <td>American Airlines</td>\n",
       "      <td>Santiago</td>\n",
       "      <td>Miami</td>\n",
       "    </tr>\n",
       "  </tbody>\n",
       "</table>\n",
       "</div>"
      ],
      "text/plain": [
       "               Fecha-I Vlo-I Ori-I Des-I Emp-I              Fecha-O Vlo-O  \\\n",
       "0  2017-01-01 23:30:00   226  SCEL  KMIA   AAL  2017-01-01 23:33:00   226   \n",
       "1  2017-01-02 23:30:00   226  SCEL  KMIA   AAL  2017-01-02 23:39:00   226   \n",
       "2  2017-01-03 23:30:00   226  SCEL  KMIA   AAL  2017-01-03 23:39:00   226   \n",
       "3  2017-01-04 23:30:00   226  SCEL  KMIA   AAL  2017-01-04 23:33:00   226   \n",
       "4  2017-01-05 23:30:00   226  SCEL  KMIA   AAL  2017-01-05 23:28:00   226   \n",
       "\n",
       "  Ori-O Des-O Emp-O  DIA  MES   AÑO     DIANOM TIPOVUELO              OPERA  \\\n",
       "0  SCEL  KMIA   AAL    1    1  2017    Domingo         I  American Airlines   \n",
       "1  SCEL  KMIA   AAL    2    1  2017      Lunes         I  American Airlines   \n",
       "2  SCEL  KMIA   AAL    3    1  2017     Martes         I  American Airlines   \n",
       "3  SCEL  KMIA   AAL    4    1  2017  Miercoles         I  American Airlines   \n",
       "4  SCEL  KMIA   AAL    5    1  2017     Jueves         I  American Airlines   \n",
       "\n",
       "   SIGLAORI SIGLADES  \n",
       "0  Santiago    Miami  \n",
       "1  Santiago    Miami  \n",
       "2  Santiago    Miami  \n",
       "3  Santiago    Miami  \n",
       "4  Santiago    Miami  "
      ]
     },
     "execution_count": 4,
     "metadata": {},
     "output_type": "execute_result"
    }
   ],
   "source": [
    "df.head()"
   ]
  },
  {
   "cell_type": "code",
   "execution_count": 5,
   "id": "e4a94226",
   "metadata": {
    "hidden": true
   },
   "outputs": [
    {
     "data": {
      "text/plain": [
       "Buenos Aires      6335\n",
       "Antofagasta       5786\n",
       "Lima              5270\n",
       "Calama            5146\n",
       "Puerto Montt      4357\n",
       "                  ... \n",
       "Quito                2\n",
       "Washington           1\n",
       "Pisco, Peru          1\n",
       "Puerto Stanley       1\n",
       "Cochabamba           1\n",
       "Name: SIGLADES, Length: 62, dtype: int64"
      ]
     },
     "execution_count": 5,
     "metadata": {},
     "output_type": "execute_result"
    }
   ],
   "source": [
    "df['SIGLADES'].value_counts()"
   ]
  },
  {
   "cell_type": "markdown",
   "id": "d014cb8f",
   "metadata": {
    "heading_collapsed": true
   },
   "source": [
    "# Data Cleaning"
   ]
  },
  {
   "cell_type": "markdown",
   "id": "62b29eb4",
   "metadata": {
    "hidden": true
   },
   "source": [
    "Exploración de la data y una primera limpieza de datos no relevantes. "
   ]
  },
  {
   "cell_type": "code",
   "execution_count": 6,
   "id": "aa7150c0",
   "metadata": {
    "hidden": true
   },
   "outputs": [
    {
     "name": "stdout",
     "output_type": "stream",
     "text": [
      "<class 'pandas.core.frame.DataFrame'>\n",
      "RangeIndex: 68206 entries, 0 to 68205\n",
      "Data columns (total 18 columns):\n",
      " #   Column     Non-Null Count  Dtype \n",
      "---  ------     --------------  ----- \n",
      " 0   Fecha-I    68206 non-null  object\n",
      " 1   Vlo-I      68206 non-null  object\n",
      " 2   Ori-I      68206 non-null  object\n",
      " 3   Des-I      68206 non-null  object\n",
      " 4   Emp-I      68206 non-null  object\n",
      " 5   Fecha-O    68206 non-null  object\n",
      " 6   Vlo-O      68205 non-null  object\n",
      " 7   Ori-O      68206 non-null  object\n",
      " 8   Des-O      68206 non-null  object\n",
      " 9   Emp-O      68206 non-null  object\n",
      " 10  DIA        68206 non-null  int64 \n",
      " 11  MES        68206 non-null  int64 \n",
      " 12  AÑO        68206 non-null  int64 \n",
      " 13  DIANOM     68206 non-null  object\n",
      " 14  TIPOVUELO  68206 non-null  object\n",
      " 15  OPERA      68206 non-null  object\n",
      " 16  SIGLAORI   68206 non-null  object\n",
      " 17  SIGLADES   68206 non-null  object\n",
      "dtypes: int64(3), object(15)\n",
      "memory usage: 9.4+ MB\n"
     ]
    }
   ],
   "source": [
    "df.info()"
   ]
  },
  {
   "cell_type": "code",
   "execution_count": 7,
   "id": "e8a2827e",
   "metadata": {
    "hidden": true,
    "scrolled": true
   },
   "outputs": [
    {
     "name": "stdout",
     "output_type": "stream",
     "text": [
      "========Nulos=======\n",
      "Fecha-I      0\n",
      "Vlo-I        0\n",
      "Ori-I        0\n",
      "Des-I        0\n",
      "Emp-I        0\n",
      "Fecha-O      0\n",
      "Vlo-O        1\n",
      "Ori-O        0\n",
      "Des-O        0\n",
      "Emp-O        0\n",
      "DIA          0\n",
      "MES          0\n",
      "AÑO          0\n",
      "DIANOM       0\n",
      "TIPOVUELO    0\n",
      "OPERA        0\n",
      "SIGLAORI     0\n",
      "SIGLADES     0\n",
      "dtype: int64\n"
     ]
    }
   ],
   "source": [
    "#Chequeamos valores nulos\n",
    "print(f'========Nulos=======\\n{df.isnull().sum()}')"
   ]
  },
  {
   "cell_type": "code",
   "execution_count": 8,
   "id": "3630fc01",
   "metadata": {
    "hidden": true
   },
   "outputs": [
    {
     "name": "stdout",
     "output_type": "stream",
     "text": [
      "Duplicados:0\n"
     ]
    }
   ],
   "source": [
    "#Chequeamos valores duplicados.\n",
    "print(f'Duplicados:{df.duplicated().sum()}')"
   ]
  },
  {
   "cell_type": "markdown",
   "id": "45d061af",
   "metadata": {
    "hidden": true
   },
   "source": [
    "Vemos que no existen valores duplicados ni nulos relevantes, de forma que no es necesario lidear con estos problemas.\n",
    "Exploramos en detalle el tipo de data en cada columna para poder ver que tipo de preprocesamiento es necesario en el siguiente paso."
   ]
  },
  {
   "cell_type": "code",
   "execution_count": 9,
   "id": "5a1ea927",
   "metadata": {
    "hidden": true
   },
   "outputs": [
    {
     "data": {
      "text/plain": [
       "Fecha-I      object\n",
       "Vlo-I        object\n",
       "Ori-I        object\n",
       "Des-I        object\n",
       "Emp-I        object\n",
       "Fecha-O      object\n",
       "Vlo-O        object\n",
       "Ori-O        object\n",
       "Des-O        object\n",
       "Emp-O        object\n",
       "DIA           int64\n",
       "MES           int64\n",
       "AÑO           int64\n",
       "DIANOM       object\n",
       "TIPOVUELO    object\n",
       "OPERA        object\n",
       "SIGLAORI     object\n",
       "SIGLADES     object\n",
       "dtype: object"
      ]
     },
     "execution_count": 9,
     "metadata": {},
     "output_type": "execute_result"
    }
   ],
   "source": [
    "df.dtypes"
   ]
  },
  {
   "cell_type": "markdown",
   "id": "3866c522",
   "metadata": {
    "hidden": true
   },
   "source": []
  },
  {
   "cell_type": "code",
   "execution_count": 10,
   "id": "45bba5c9",
   "metadata": {
    "hidden": true
   },
   "outputs": [],
   "source": [
    "#Cambiando nombre de columnas para hacer mas facil la comprension\n",
    "df.rename(columns={'Fecha-I': 'Fecha_prog', 'Vlo-I':'Vuelo_prog', 'Ori-I':'Origen_prog', 'Des-I':'Destino_prog', 'Emp-I':'Aerolinea_prog', 'Fecha-O':'Fecha_oper', 'Vlo-O':'Vuelo_oper','Ori-O':'Origen_oper', 'Des-O':'Destino_oper', 'Emp-O':'Aerolinea_oper', 'SIGLAORI':'Origen', 'SIGLADES':'DESTINO'}, inplace=True)"
   ]
  },
  {
   "cell_type": "code",
   "execution_count": 11,
   "id": "4e00507e",
   "metadata": {
    "hidden": true
   },
   "outputs": [],
   "source": [
    "#Podemos eliminar origen programado ya que es el mismo que el operado.  #Eliminaos todo, siempre es SCLE\n",
    "df.drop(['Origen_prog','Origen','Origen_oper'], axis=1, inplace=True) "
   ]
  },
  {
   "cell_type": "code",
   "execution_count": 12,
   "id": "05a8a253",
   "metadata": {
    "hidden": true
   },
   "outputs": [],
   "source": [
    "#El numero de vuelo  influye en el retraso? Creemos que no\n",
    "df.drop(['Vuelo_prog','Vuelo_oper'], axis=1, inplace=True)"
   ]
  },
  {
   "cell_type": "code",
   "execution_count": 13,
   "id": "3a763ad8",
   "metadata": {
    "hidden": true
   },
   "outputs": [
    {
     "data": {
      "text/plain": [
       "False"
      ]
     },
     "execution_count": 13,
     "metadata": {},
     "output_type": "execute_result"
    }
   ],
   "source": [
    "df.Destino_prog.equals(df.Destino_oper)\n",
    "#NO poseen la misma info, es  decir que ouede cambiar el destino de lo programado a lo operado. \n",
    "#No se puede eliminar columna por ahora. "
   ]
  },
  {
   "cell_type": "code",
   "execution_count": 14,
   "id": "d82225f4",
   "metadata": {
    "hidden": true
   },
   "outputs": [
    {
     "data": {
      "text/plain": [
       "False"
      ]
     },
     "execution_count": 14,
     "metadata": {},
     "output_type": "execute_result"
    }
   ],
   "source": [
    "#Aerolinas programads VS operadas.\n",
    "df.Aerolinea_prog.equals(df.Aerolinea_oper)\n",
    "#No siempre la Aerolinea programada es la misma que la operada."
   ]
  },
  {
   "cell_type": "code",
   "execution_count": 15,
   "id": "97648b0e",
   "metadata": {
    "hidden": true
   },
   "outputs": [],
   "source": [
    "# Crear columna Tipo cqtetorica para TIPOVUELO DIANOM CAMBIO_AERO CAMBIO_DEST\n",
    "# COMO TRATO DESTINO PROG Y AEROLINA PROG y AEROLINA OPER????\n",
    "#OPCION 1. PARA AEROLINEA_oper puedo eliminar, pensando que no influye la aerolina que opera en la demora,\n",
    "#sino el cambio y la programada.\n",
    "\n",
    "# difference_1 = [item for item in airport_IATA_CODE if item not in df1_ORIGIN]\n"
   ]
  },
  {
   "cell_type": "markdown",
   "id": "6f1e3445",
   "metadata": {
    "heading_collapsed": true
   },
   "source": [
    "# FEATURE INGENIERING"
   ]
  },
  {
   "cell_type": "markdown",
   "id": "1df5f25d",
   "metadata": {
    "hidden": true
   },
   "source": [
    "En esta sección se creara las columnas con la info solicitada. Luego se evaluara si es posible deshechar alguna otra columna de modo que los datos sean mas claros."
   ]
  },
  {
   "cell_type": "markdown",
   "id": "8f96fb0a",
   "metadata": {
    "heading_collapsed": true,
    "hidden": true
   },
   "source": [
    "## Creamos las columnas solicitadas"
   ]
  },
  {
   "cell_type": "code",
   "execution_count": 16,
   "id": "92440731",
   "metadata": {
    "hidden": true
   },
   "outputs": [],
   "source": [
    "#Formato de tiempo para Fecha_prog y Fecha_oper\n",
    "df['Fecha_prog']= pd.to_datetime(df['Fecha_prog'],format='%Y/%m/%d %H:%M:%S')\n",
    "df['Fecha_oper']= pd.to_datetime(df['Fecha_oper'],format='%Y/%m/%d %H:%M:%S')"
   ]
  },
  {
   "cell_type": "code",
   "execution_count": 17,
   "id": "15c7916f",
   "metadata": {
    "hidden": true
   },
   "outputs": [],
   "source": [
    "#DEMORAS_EN_MIN\n",
    "df['dif_min']= (df['Fecha_oper'] -df['Fecha_prog'])\n",
    "df['dif_min']= df['dif_min'].dt.total_seconds()/60"
   ]
  },
  {
   "cell_type": "code",
   "execution_count": 18,
   "id": "2a4a88b8",
   "metadata": {
    "hidden": true
   },
   "outputs": [],
   "source": [
    "#ATRASO_MAYOR_15MIN\n",
    "df['atraso_15'] = pd.cut(x = df['dif_min'],\n",
    "                       bins=[df['dif_min'].min()-1,\n",
    "                             15,\n",
    "                             df['dif_min'].max()+1], \n",
    "                       labels=['0', '1'])\n",
    "df['atraso_15'] =df['atraso_15'].astype(int)"
   ]
  },
  {
   "cell_type": "code",
   "execution_count": 19,
   "id": "e06a6142",
   "metadata": {
    "hidden": true
   },
   "outputs": [],
   "source": [
    "#TEMPORADA_ALTA\n",
    "df['time']=(df['Fecha_prog'].dt.strftime('%m%d')).astype(int)\n",
    "bins1 = [101,303,715,801,911,930,1215,1231]\n",
    "labels =['1','0', '1', '0','1','0','1']\n",
    "df['temporada_alta'] = pd.cut(x = df['time'],\n",
    "                      bins=[101,303,715,801,911,930,1215,1231],include_lowest=True, \n",
    "                       labels=['1','0', '1', '0','1','0','1'], ordered=False)"
   ]
  },
  {
   "cell_type": "code",
   "execution_count": 20,
   "id": "15e0bf95",
   "metadata": {
    "hidden": true
   },
   "outputs": [],
   "source": [
    "# ○ periodo_dia : mañana (entre 5:00 y 11:59), tarde (entre 12:00 y 18:59) y noche (entre 19:00 y 4:59), en base a Fecha-I \n",
    "x = (df['Fecha_prog'].dt.strftime('%H%M')).astype(float)\n",
    "df['periodo_dia'] = pd.cut(x = x,\n",
    "                      bins=[0,500,1200,1900,2400],include_lowest=True, right=False, \n",
    "                       labels=['noche','mañana', 'tarde', 'noche'], ordered=False)"
   ]
  },
  {
   "cell_type": "code",
   "execution_count": 21,
   "id": "ea7171c8",
   "metadata": {
    "hidden": true
   },
   "outputs": [],
   "source": [
    "#TEMPORADA_ALTA\n",
    "df['time']=(df['Fecha_prog'].dt.strftime('%m%d')).astype(int)\n",
    "bins1 = [101,303,715,801,911,930,1215,1231]\n",
    "labels =['1','0', '1', '0','1','0','1']\n",
    "df['temporada_alta'] = pd.cut(x = df['time'],\n",
    "                      bins=[101,303,715,801,911,930,1215,1231],include_lowest=True, \n",
    "                       labels=['1','0', '1', '0','1','0','1'], ordered=False)"
   ]
  },
  {
   "cell_type": "code",
   "execution_count": null,
   "id": "b3c3d227",
   "metadata": {
    "hidden": true
   },
   "outputs": [],
   "source": []
  },
  {
   "cell_type": "markdown",
   "id": "bdfbfd5f",
   "metadata": {
    "hidden": true
   },
   "source": [
    "## Nuevas variables y depuración"
   ]
  },
  {
   "cell_type": "markdown",
   "id": "e09ee9c7",
   "metadata": {
    "hidden": true
   },
   "source": [
    "Para poder estudiar el impacto del cambio de destino o de aerolina sobre el retraso creamos dos nuevas variables categoricas. Cambio_destino: indica si existio o no cambio de destino, y Cambio_aerolinea: informa si existio o no cambio de aerolinea."
   ]
  },
  {
   "cell_type": "code",
   "execution_count": 22,
   "id": "c0c20b06",
   "metadata": {
    "hidden": true
   },
   "outputs": [],
   "source": [
    "#Creamos una columna para detrerminar si hubo o no cambio de destino con respecto a lo programado.\n",
    "df['Cambio_destino'] = (df['Destino_prog']!=df['Destino_oper'])"
   ]
  },
  {
   "cell_type": "code",
   "execution_count": 23,
   "id": "00c4492d",
   "metadata": {
    "hidden": true
   },
   "outputs": [],
   "source": [
    "#Creamos una columna para detrerminar si hubo o no cambio de linea con respecto a lo programado.\n",
    "df['Cambio_aerolinea'] = (df['Aerolinea_prog']!=df['Aerolinea_oper'])"
   ]
  },
  {
   "cell_type": "markdown",
   "id": "69837cd3",
   "metadata": {
    "hidden": true
   },
   "source": [
    "Una vez creadas las columnas necesarias eliminamos las que no poseen datos relevantes"
   ]
  },
  {
   "cell_type": "code",
   "execution_count": 24,
   "id": "d9905595",
   "metadata": {
    "hidden": true
   },
   "outputs": [],
   "source": [
    "#Podemos dropear la columna Time. Esta columna fue creada para calcular las diferentes temporadas de viaje, \n",
    "#ya no posee info relevante.\n",
    "df.drop('time', axis=1, inplace=True)"
   ]
  },
  {
   "cell_type": "markdown",
   "id": "ffc67f96",
   "metadata": {
    "hidden": true
   },
   "source": [
    "El posible impacto de cambio de destino o de aerolinea en el retraso esta contenido por las variables cambio de destino y cambio de aerolinea. Esto nos permite eliminar las variables destino_prog y aerolinea_prog. De este modo solo nos quedamos con el nombre de completo de la Aerolinea que opera y lo mismo para el destino. "
   ]
  },
  {
   "cell_type": "markdown",
   "id": "603351eb",
   "metadata": {
    "hidden": true
   },
   "source": [
    "Tambien podemos prescinde de las fechas programadas y operadas ya que el retraso para cada vuelo se encuentra en las dos variables creadas  (dif_min, atraso_15). Para el caso de dia mes y año, cada uno tiene su propia variable."
   ]
  },
  {
   "cell_type": "code",
   "execution_count": 25,
   "id": "05e85165",
   "metadata": {
    "hidden": true,
    "scrolled": true
   },
   "outputs": [],
   "source": [
    "#Dropear la sigla de lo operado y lo progamado, solo nos quedamos con el nombre de lo operado.\n",
    "df.drop(['Aerolinea_prog','Aerolinea_oper', 'Destino_oper','Destino_prog'], axis=1, inplace=True)"
   ]
  },
  {
   "cell_type": "code",
   "execution_count": 26,
   "id": "46c5fbf5",
   "metadata": {
    "hidden": true
   },
   "outputs": [],
   "source": [
    "#Borrar fecha_prog y fecha_oper. No brindan info adicional. Ya usamos para calcular el atraso, tenemos dia\n",
    "#y mes en otra columna.\n",
    "df.drop(['Fecha_prog','Fecha_oper'], axis=1, inplace=True)"
   ]
  },
  {
   "cell_type": "code",
   "execution_count": 27,
   "id": "640c8ed8",
   "metadata": {
    "hidden": true
   },
   "outputs": [
    {
     "name": "stdout",
     "output_type": "stream",
     "text": [
      "Shape de dataframe depurado: (68206, 13)\n"
     ]
    },
    {
     "data": {
      "text/html": [
       "<div>\n",
       "<style scoped>\n",
       "    .dataframe tbody tr th:only-of-type {\n",
       "        vertical-align: middle;\n",
       "    }\n",
       "\n",
       "    .dataframe tbody tr th {\n",
       "        vertical-align: top;\n",
       "    }\n",
       "\n",
       "    .dataframe thead th {\n",
       "        text-align: right;\n",
       "    }\n",
       "</style>\n",
       "<table border=\"1\" class=\"dataframe\">\n",
       "  <thead>\n",
       "    <tr style=\"text-align: right;\">\n",
       "      <th></th>\n",
       "      <th>DIA</th>\n",
       "      <th>MES</th>\n",
       "      <th>AÑO</th>\n",
       "      <th>DIANOM</th>\n",
       "      <th>TIPOVUELO</th>\n",
       "      <th>OPERA</th>\n",
       "      <th>DESTINO</th>\n",
       "      <th>dif_min</th>\n",
       "      <th>atraso_15</th>\n",
       "      <th>temporada_alta</th>\n",
       "      <th>periodo_dia</th>\n",
       "      <th>Cambio_destino</th>\n",
       "      <th>Cambio_aerolinea</th>\n",
       "    </tr>\n",
       "  </thead>\n",
       "  <tbody>\n",
       "    <tr>\n",
       "      <th>0</th>\n",
       "      <td>1</td>\n",
       "      <td>1</td>\n",
       "      <td>2017</td>\n",
       "      <td>Domingo</td>\n",
       "      <td>I</td>\n",
       "      <td>American Airlines</td>\n",
       "      <td>Miami</td>\n",
       "      <td>3.0</td>\n",
       "      <td>0</td>\n",
       "      <td>1</td>\n",
       "      <td>noche</td>\n",
       "      <td>False</td>\n",
       "      <td>False</td>\n",
       "    </tr>\n",
       "    <tr>\n",
       "      <th>1</th>\n",
       "      <td>2</td>\n",
       "      <td>1</td>\n",
       "      <td>2017</td>\n",
       "      <td>Lunes</td>\n",
       "      <td>I</td>\n",
       "      <td>American Airlines</td>\n",
       "      <td>Miami</td>\n",
       "      <td>9.0</td>\n",
       "      <td>0</td>\n",
       "      <td>1</td>\n",
       "      <td>noche</td>\n",
       "      <td>False</td>\n",
       "      <td>False</td>\n",
       "    </tr>\n",
       "    <tr>\n",
       "      <th>2</th>\n",
       "      <td>3</td>\n",
       "      <td>1</td>\n",
       "      <td>2017</td>\n",
       "      <td>Martes</td>\n",
       "      <td>I</td>\n",
       "      <td>American Airlines</td>\n",
       "      <td>Miami</td>\n",
       "      <td>9.0</td>\n",
       "      <td>0</td>\n",
       "      <td>1</td>\n",
       "      <td>noche</td>\n",
       "      <td>False</td>\n",
       "      <td>False</td>\n",
       "    </tr>\n",
       "    <tr>\n",
       "      <th>3</th>\n",
       "      <td>4</td>\n",
       "      <td>1</td>\n",
       "      <td>2017</td>\n",
       "      <td>Miercoles</td>\n",
       "      <td>I</td>\n",
       "      <td>American Airlines</td>\n",
       "      <td>Miami</td>\n",
       "      <td>3.0</td>\n",
       "      <td>0</td>\n",
       "      <td>1</td>\n",
       "      <td>noche</td>\n",
       "      <td>False</td>\n",
       "      <td>False</td>\n",
       "    </tr>\n",
       "    <tr>\n",
       "      <th>4</th>\n",
       "      <td>5</td>\n",
       "      <td>1</td>\n",
       "      <td>2017</td>\n",
       "      <td>Jueves</td>\n",
       "      <td>I</td>\n",
       "      <td>American Airlines</td>\n",
       "      <td>Miami</td>\n",
       "      <td>-2.0</td>\n",
       "      <td>0</td>\n",
       "      <td>1</td>\n",
       "      <td>noche</td>\n",
       "      <td>False</td>\n",
       "      <td>False</td>\n",
       "    </tr>\n",
       "  </tbody>\n",
       "</table>\n",
       "</div>"
      ],
      "text/plain": [
       "   DIA  MES   AÑO     DIANOM TIPOVUELO              OPERA DESTINO  dif_min  \\\n",
       "0    1    1  2017    Domingo         I  American Airlines   Miami      3.0   \n",
       "1    2    1  2017      Lunes         I  American Airlines   Miami      9.0   \n",
       "2    3    1  2017     Martes         I  American Airlines   Miami      9.0   \n",
       "3    4    1  2017  Miercoles         I  American Airlines   Miami      3.0   \n",
       "4    5    1  2017     Jueves         I  American Airlines   Miami     -2.0   \n",
       "\n",
       "   atraso_15 temporada_alta periodo_dia  Cambio_destino  Cambio_aerolinea  \n",
       "0          0              1       noche           False             False  \n",
       "1          0              1       noche           False             False  \n",
       "2          0              1       noche           False             False  \n",
       "3          0              1       noche           False             False  \n",
       "4          0              1       noche           False             False  "
      ]
     },
     "execution_count": 27,
     "metadata": {},
     "output_type": "execute_result"
    }
   ],
   "source": [
    "#chequemos nuestro depurado dataframe y su shape.\n",
    "print(f'Shape de dataframe depurado: {df.shape}')\n",
    "df.head()"
   ]
  },
  {
   "cell_type": "markdown",
   "id": "541b1843",
   "metadata": {
    "hidden": true
   },
   "source": [
    "Una vez definidas nuestras variables de interes vamos a proceder a hacer un analisis exploratorio para poder hacer un preprocesamiento de los datos."
   ]
  },
  {
   "cell_type": "markdown",
   "id": "d53de042",
   "metadata": {},
   "source": [
    "# Tasas de atrasos "
   ]
  },
  {
   "cell_type": "code",
   "execution_count": 28,
   "id": "a0b394b1",
   "metadata": {},
   "outputs": [
    {
     "data": {
      "text/plain": [
       "12614"
      ]
     },
     "execution_count": 28,
     "metadata": {},
     "output_type": "execute_result"
    }
   ],
   "source": [
    "total_atrasos = df['atraso_15'].sum()\n",
    "total_atrasos"
   ]
  },
  {
   "cell_type": "code",
   "execution_count": 29,
   "id": "fb608e3a",
   "metadata": {},
   "outputs": [],
   "source": [
    "#Pordriamos plantear que ante cambio de destino, la demora no se atribuye. \n",
    "df_cambio_aerolinea = df.loc[df['Cambio_aerolinea'] == True]\n",
    "df_cambio_destino = df.loc[df['Cambio_destino'] == True]\n"
   ]
  },
  {
   "cell_type": "code",
   "execution_count": 30,
   "id": "950f0b9e",
   "metadata": {},
   "outputs": [
    {
     "data": {
      "text/html": [
       "<div>\n",
       "<style scoped>\n",
       "    .dataframe tbody tr th:only-of-type {\n",
       "        vertical-align: middle;\n",
       "    }\n",
       "\n",
       "    .dataframe tbody tr th {\n",
       "        vertical-align: top;\n",
       "    }\n",
       "\n",
       "    .dataframe thead th {\n",
       "        text-align: right;\n",
       "    }\n",
       "</style>\n",
       "<table border=\"1\" class=\"dataframe\">\n",
       "  <thead>\n",
       "    <tr style=\"text-align: right;\">\n",
       "      <th></th>\n",
       "      <th>Total_vuelos</th>\n",
       "      <th>retrasos</th>\n",
       "      <th>tasa_retraso</th>\n",
       "    </tr>\n",
       "    <tr>\n",
       "      <th>DESTINO</th>\n",
       "      <th></th>\n",
       "      <th></th>\n",
       "      <th></th>\n",
       "    </tr>\n",
       "  </thead>\n",
       "  <tbody>\n",
       "    <tr>\n",
       "      <th>Quito</th>\n",
       "      <td>2</td>\n",
       "      <td>2</td>\n",
       "      <td>1.000000</td>\n",
       "    </tr>\n",
       "    <tr>\n",
       "      <th>Puerto Stanley</th>\n",
       "      <td>1</td>\n",
       "      <td>1</td>\n",
       "      <td>1.000000</td>\n",
       "    </tr>\n",
       "    <tr>\n",
       "      <th>Cochabamba</th>\n",
       "      <td>1</td>\n",
       "      <td>1</td>\n",
       "      <td>1.000000</td>\n",
       "    </tr>\n",
       "    <tr>\n",
       "      <th>Ushuia</th>\n",
       "      <td>6</td>\n",
       "      <td>4</td>\n",
       "      <td>0.666667</td>\n",
       "    </tr>\n",
       "    <tr>\n",
       "      <th>Sydney</th>\n",
       "      <td>194</td>\n",
       "      <td>113</td>\n",
       "      <td>0.582474</td>\n",
       "    </tr>\n",
       "    <tr>\n",
       "      <th>...</th>\n",
       "      <td>...</td>\n",
       "      <td>...</td>\n",
       "      <td>...</td>\n",
       "    </tr>\n",
       "    <tr>\n",
       "      <th>Houston</th>\n",
       "      <td>334</td>\n",
       "      <td>17</td>\n",
       "      <td>0.050898</td>\n",
       "    </tr>\n",
       "    <tr>\n",
       "      <th>Curitiba, Bra.</th>\n",
       "      <td>3</td>\n",
       "      <td>0</td>\n",
       "      <td>0.000000</td>\n",
       "    </tr>\n",
       "    <tr>\n",
       "      <th>Cataratas Iguacu</th>\n",
       "      <td>2</td>\n",
       "      <td>0</td>\n",
       "      <td>0.000000</td>\n",
       "    </tr>\n",
       "    <tr>\n",
       "      <th>Pisco, Peru</th>\n",
       "      <td>1</td>\n",
       "      <td>0</td>\n",
       "      <td>0.000000</td>\n",
       "    </tr>\n",
       "    <tr>\n",
       "      <th>Washington</th>\n",
       "      <td>1</td>\n",
       "      <td>0</td>\n",
       "      <td>0.000000</td>\n",
       "    </tr>\n",
       "  </tbody>\n",
       "</table>\n",
       "<p>62 rows × 3 columns</p>\n",
       "</div>"
      ],
      "text/plain": [
       "                  Total_vuelos  retrasos  tasa_retraso\n",
       "DESTINO                                               \n",
       "Quito                        2         2      1.000000\n",
       "Puerto Stanley               1         1      1.000000\n",
       "Cochabamba                   1         1      1.000000\n",
       "Ushuia                       6         4      0.666667\n",
       "Sydney                     194       113      0.582474\n",
       "...                        ...       ...           ...\n",
       "Houston                    334        17      0.050898\n",
       "Curitiba, Bra.               3         0      0.000000\n",
       "Cataratas Iguacu             2         0      0.000000\n",
       "Pisco, Peru                  1         0      0.000000\n",
       "Washington                   1         0      0.000000\n",
       "\n",
       "[62 rows x 3 columns]"
      ]
     },
     "execution_count": 30,
     "metadata": {},
     "output_type": "execute_result"
    }
   ],
   "source": [
    "#TASA DE RETRASO POR DESTINO\n",
    "retraso_destino = df[['atraso_15', 'DESTINO']]\n",
    "retraso_destino = retraso_destino.groupby('DESTINO').count()\n",
    "retraso_destino.rename(columns={'atraso_15':'Total_vuelos'}, inplace=True)\n",
    "retraso_destino['retrasos'] = df[['atraso_15', 'DESTINO']].groupby('DESTINO').sum()\n",
    "retraso_destino['tasa_retraso']=(retraso_destino['retrasos'])/(retraso_destino['Total_vuelos'])\n",
    "retraso_destino =retraso_destino.sort_values('tasa_retraso', ascending=False)\n",
    "retraso_destino"
   ]
  },
  {
   "cell_type": "code",
   "execution_count": 31,
   "id": "8bbb7746",
   "metadata": {},
   "outputs": [
    {
     "data": {
      "text/html": [
       "<div>\n",
       "<style scoped>\n",
       "    .dataframe tbody tr th:only-of-type {\n",
       "        vertical-align: middle;\n",
       "    }\n",
       "\n",
       "    .dataframe tbody tr th {\n",
       "        vertical-align: top;\n",
       "    }\n",
       "\n",
       "    .dataframe thead th {\n",
       "        text-align: right;\n",
       "    }\n",
       "</style>\n",
       "<table border=\"1\" class=\"dataframe\">\n",
       "  <thead>\n",
       "    <tr style=\"text-align: right;\">\n",
       "      <th></th>\n",
       "      <th>Total_vuelos</th>\n",
       "      <th>retrasos</th>\n",
       "      <th>tasa_retraso</th>\n",
       "    </tr>\n",
       "    <tr>\n",
       "      <th>OPERA</th>\n",
       "      <th></th>\n",
       "      <th></th>\n",
       "      <th></th>\n",
       "    </tr>\n",
       "  </thead>\n",
       "  <tbody>\n",
       "    <tr>\n",
       "      <th>Plus Ultra Lineas Aereas</th>\n",
       "      <td>49</td>\n",
       "      <td>30</td>\n",
       "      <td>0.612245</td>\n",
       "    </tr>\n",
       "    <tr>\n",
       "      <th>Qantas Airways</th>\n",
       "      <td>195</td>\n",
       "      <td>113</td>\n",
       "      <td>0.579487</td>\n",
       "    </tr>\n",
       "    <tr>\n",
       "      <th>Air Canada</th>\n",
       "      <td>565</td>\n",
       "      <td>258</td>\n",
       "      <td>0.456637</td>\n",
       "    </tr>\n",
       "    <tr>\n",
       "      <th>Latin American Wings</th>\n",
       "      <td>1674</td>\n",
       "      <td>681</td>\n",
       "      <td>0.406810</td>\n",
       "    </tr>\n",
       "    <tr>\n",
       "      <th>Gol Trans</th>\n",
       "      <td>806</td>\n",
       "      <td>287</td>\n",
       "      <td>0.356079</td>\n",
       "    </tr>\n",
       "    <tr>\n",
       "      <th>Avianca</th>\n",
       "      <td>1152</td>\n",
       "      <td>306</td>\n",
       "      <td>0.265625</td>\n",
       "    </tr>\n",
       "    <tr>\n",
       "      <th>Aerolineas Argentinas</th>\n",
       "      <td>1949</td>\n",
       "      <td>468</td>\n",
       "      <td>0.240123</td>\n",
       "    </tr>\n",
       "    <tr>\n",
       "      <th>Austral</th>\n",
       "      <td>74</td>\n",
       "      <td>15</td>\n",
       "      <td>0.202703</td>\n",
       "    </tr>\n",
       "    <tr>\n",
       "      <th>JetSmart SPA</th>\n",
       "      <td>1095</td>\n",
       "      <td>196</td>\n",
       "      <td>0.178995</td>\n",
       "    </tr>\n",
       "    <tr>\n",
       "      <th>Grupo LATAM</th>\n",
       "      <td>40892</td>\n",
       "      <td>7306</td>\n",
       "      <td>0.178666</td>\n",
       "    </tr>\n",
       "    <tr>\n",
       "      <th>Sky Airline</th>\n",
       "      <td>14298</td>\n",
       "      <td>2540</td>\n",
       "      <td>0.177647</td>\n",
       "    </tr>\n",
       "    <tr>\n",
       "      <th>Oceanair Linhas Aereas</th>\n",
       "      <td>279</td>\n",
       "      <td>43</td>\n",
       "      <td>0.154122</td>\n",
       "    </tr>\n",
       "    <tr>\n",
       "      <th>British Airways</th>\n",
       "      <td>205</td>\n",
       "      <td>29</td>\n",
       "      <td>0.141463</td>\n",
       "    </tr>\n",
       "    <tr>\n",
       "      <th>Lacsa</th>\n",
       "      <td>92</td>\n",
       "      <td>11</td>\n",
       "      <td>0.119565</td>\n",
       "    </tr>\n",
       "    <tr>\n",
       "      <th>Alitalia</th>\n",
       "      <td>259</td>\n",
       "      <td>29</td>\n",
       "      <td>0.111969</td>\n",
       "    </tr>\n",
       "    <tr>\n",
       "      <th>Iberia</th>\n",
       "      <td>362</td>\n",
       "      <td>36</td>\n",
       "      <td>0.099448</td>\n",
       "    </tr>\n",
       "    <tr>\n",
       "      <th>Air France</th>\n",
       "      <td>358</td>\n",
       "      <td>30</td>\n",
       "      <td>0.083799</td>\n",
       "    </tr>\n",
       "    <tr>\n",
       "      <th>K.L.M.</th>\n",
       "      <td>251</td>\n",
       "      <td>21</td>\n",
       "      <td>0.083665</td>\n",
       "    </tr>\n",
       "    <tr>\n",
       "      <th>American Airlines</th>\n",
       "      <td>757</td>\n",
       "      <td>51</td>\n",
       "      <td>0.067371</td>\n",
       "    </tr>\n",
       "    <tr>\n",
       "      <th>Copa Air</th>\n",
       "      <td>1850</td>\n",
       "      <td>116</td>\n",
       "      <td>0.062703</td>\n",
       "    </tr>\n",
       "    <tr>\n",
       "      <th>Delta Air</th>\n",
       "      <td>358</td>\n",
       "      <td>21</td>\n",
       "      <td>0.058659</td>\n",
       "    </tr>\n",
       "    <tr>\n",
       "      <th>United Airlines</th>\n",
       "      <td>335</td>\n",
       "      <td>17</td>\n",
       "      <td>0.050746</td>\n",
       "    </tr>\n",
       "    <tr>\n",
       "      <th>Aeromexico</th>\n",
       "      <td>351</td>\n",
       "      <td>10</td>\n",
       "      <td>0.028490</td>\n",
       "    </tr>\n",
       "  </tbody>\n",
       "</table>\n",
       "</div>"
      ],
      "text/plain": [
       "                          Total_vuelos  retrasos  tasa_retraso\n",
       "OPERA                                                         \n",
       "Plus Ultra Lineas Aereas            49        30      0.612245\n",
       "Qantas Airways                     195       113      0.579487\n",
       "Air Canada                         565       258      0.456637\n",
       "Latin American Wings              1674       681      0.406810\n",
       "Gol Trans                          806       287      0.356079\n",
       "Avianca                           1152       306      0.265625\n",
       "Aerolineas Argentinas             1949       468      0.240123\n",
       "Austral                             74        15      0.202703\n",
       "JetSmart SPA                      1095       196      0.178995\n",
       "Grupo LATAM                      40892      7306      0.178666\n",
       "Sky Airline                      14298      2540      0.177647\n",
       "Oceanair Linhas Aereas             279        43      0.154122\n",
       "British Airways                    205        29      0.141463\n",
       "Lacsa                               92        11      0.119565\n",
       "Alitalia                           259        29      0.111969\n",
       "Iberia                             362        36      0.099448\n",
       "Air France                         358        30      0.083799\n",
       "K.L.M.                             251        21      0.083665\n",
       "American Airlines                  757        51      0.067371\n",
       "Copa Air                          1850       116      0.062703\n",
       "Delta Air                          358        21      0.058659\n",
       "United Airlines                    335        17      0.050746\n",
       "Aeromexico                         351        10      0.028490"
      ]
     },
     "execution_count": 31,
     "metadata": {},
     "output_type": "execute_result"
    }
   ],
   "source": [
    "#TASA DE RETRASO POR AEROLINEA\n",
    "\n",
    "retraso_aerolinea = df[['atraso_15', 'OPERA']]\n",
    "retraso_aerolinea = retraso_aerolinea.groupby('OPERA').count()\n",
    "retraso_aerolinea.rename(columns={'atraso_15':'Total_vuelos'}, inplace=True)\n",
    "retraso_aerolinea['retrasos'] = df[['atraso_15', 'OPERA']].groupby('OPERA').sum()\n",
    "retraso_aerolinea['tasa_retraso']=(retraso_aerolinea['retrasos'])/(retraso_aerolinea['Total_vuelos'])\n",
    "retraso_aerolinea =retraso_aerolinea.sort_values('tasa_retraso', ascending=False)\n",
    "retraso_aerolinea\n"
   ]
  },
  {
   "cell_type": "code",
   "execution_count": 32,
   "id": "4a0be5b4",
   "metadata": {},
   "outputs": [
    {
     "data": {
      "text/html": [
       "<div>\n",
       "<style scoped>\n",
       "    .dataframe tbody tr th:only-of-type {\n",
       "        vertical-align: middle;\n",
       "    }\n",
       "\n",
       "    .dataframe tbody tr th {\n",
       "        vertical-align: top;\n",
       "    }\n",
       "\n",
       "    .dataframe thead th {\n",
       "        text-align: right;\n",
       "    }\n",
       "</style>\n",
       "<table border=\"1\" class=\"dataframe\">\n",
       "  <thead>\n",
       "    <tr style=\"text-align: right;\">\n",
       "      <th></th>\n",
       "      <th>Total_vuelos</th>\n",
       "      <th>retrasos</th>\n",
       "      <th>tasa_retraso</th>\n",
       "    </tr>\n",
       "    <tr>\n",
       "      <th>MES</th>\n",
       "      <th></th>\n",
       "      <th></th>\n",
       "      <th></th>\n",
       "    </tr>\n",
       "  </thead>\n",
       "  <tbody>\n",
       "    <tr>\n",
       "      <th>7</th>\n",
       "      <td>5992</td>\n",
       "      <td>1758</td>\n",
       "      <td>0.293391</td>\n",
       "    </tr>\n",
       "    <tr>\n",
       "      <th>12</th>\n",
       "      <td>6356</td>\n",
       "      <td>1615</td>\n",
       "      <td>0.254091</td>\n",
       "    </tr>\n",
       "    <tr>\n",
       "      <th>10</th>\n",
       "      <td>6032</td>\n",
       "      <td>1363</td>\n",
       "      <td>0.225962</td>\n",
       "    </tr>\n",
       "    <tr>\n",
       "      <th>11</th>\n",
       "      <td>6080</td>\n",
       "      <td>1199</td>\n",
       "      <td>0.197204</td>\n",
       "    </tr>\n",
       "    <tr>\n",
       "      <th>8</th>\n",
       "      <td>5744</td>\n",
       "      <td>996</td>\n",
       "      <td>0.173398</td>\n",
       "    </tr>\n",
       "    <tr>\n",
       "      <th>9</th>\n",
       "      <td>5610</td>\n",
       "      <td>967</td>\n",
       "      <td>0.172371</td>\n",
       "    </tr>\n",
       "    <tr>\n",
       "      <th>6</th>\n",
       "      <td>4981</td>\n",
       "      <td>852</td>\n",
       "      <td>0.171050</td>\n",
       "    </tr>\n",
       "    <tr>\n",
       "      <th>1</th>\n",
       "      <td>6108</td>\n",
       "      <td>978</td>\n",
       "      <td>0.160118</td>\n",
       "    </tr>\n",
       "    <tr>\n",
       "      <th>5</th>\n",
       "      <td>5240</td>\n",
       "      <td>827</td>\n",
       "      <td>0.157824</td>\n",
       "    </tr>\n",
       "    <tr>\n",
       "      <th>2</th>\n",
       "      <td>5561</td>\n",
       "      <td>843</td>\n",
       "      <td>0.151591</td>\n",
       "    </tr>\n",
       "    <tr>\n",
       "      <th>4</th>\n",
       "      <td>5020</td>\n",
       "      <td>585</td>\n",
       "      <td>0.116534</td>\n",
       "    </tr>\n",
       "    <tr>\n",
       "      <th>3</th>\n",
       "      <td>5482</td>\n",
       "      <td>631</td>\n",
       "      <td>0.115104</td>\n",
       "    </tr>\n",
       "  </tbody>\n",
       "</table>\n",
       "</div>"
      ],
      "text/plain": [
       "     Total_vuelos  retrasos  tasa_retraso\n",
       "MES                                      \n",
       "7            5992      1758      0.293391\n",
       "12           6356      1615      0.254091\n",
       "10           6032      1363      0.225962\n",
       "11           6080      1199      0.197204\n",
       "8            5744       996      0.173398\n",
       "9            5610       967      0.172371\n",
       "6            4981       852      0.171050\n",
       "1            6108       978      0.160118\n",
       "5            5240       827      0.157824\n",
       "2            5561       843      0.151591\n",
       "4            5020       585      0.116534\n",
       "3            5482       631      0.115104"
      ]
     },
     "execution_count": 32,
     "metadata": {},
     "output_type": "execute_result"
    }
   ],
   "source": [
    "#TASA DE RETRASO POR MES\n",
    "retraso_mes = df[['atraso_15', 'MES']]\n",
    "retraso_mes = retraso_mes.groupby('MES').count()\n",
    "retraso_mes.rename(columns={'atraso_15':'Total_vuelos'}, inplace=True)\n",
    "retraso_mes['retrasos'] = df[['atraso_15', 'MES']].groupby('MES').sum()\n",
    "retraso_mes['tasa_retraso']=(retraso_mes['retrasos'])/(retraso_mes['Total_vuelos'])\n",
    "retraso_mes =retraso_mes.sort_values('tasa_retraso', ascending=False)\n",
    "retraso_mes"
   ]
  },
  {
   "cell_type": "code",
   "execution_count": 33,
   "id": "678a4d17",
   "metadata": {},
   "outputs": [
    {
     "data": {
      "text/html": [
       "<div>\n",
       "<style scoped>\n",
       "    .dataframe tbody tr th:only-of-type {\n",
       "        vertical-align: middle;\n",
       "    }\n",
       "\n",
       "    .dataframe tbody tr th {\n",
       "        vertical-align: top;\n",
       "    }\n",
       "\n",
       "    .dataframe thead th {\n",
       "        text-align: right;\n",
       "    }\n",
       "</style>\n",
       "<table border=\"1\" class=\"dataframe\">\n",
       "  <thead>\n",
       "    <tr style=\"text-align: right;\">\n",
       "      <th></th>\n",
       "      <th>Total_vuelos</th>\n",
       "      <th>retrasos</th>\n",
       "      <th>tasa_retraso</th>\n",
       "    </tr>\n",
       "    <tr>\n",
       "      <th>DIANOM</th>\n",
       "      <th></th>\n",
       "      <th></th>\n",
       "      <th></th>\n",
       "    </tr>\n",
       "  </thead>\n",
       "  <tbody>\n",
       "    <tr>\n",
       "      <th>Viernes</th>\n",
       "      <td>10292</td>\n",
       "      <td>2285</td>\n",
       "      <td>0.222017</td>\n",
       "    </tr>\n",
       "    <tr>\n",
       "      <th>Lunes</th>\n",
       "      <td>10131</td>\n",
       "      <td>2048</td>\n",
       "      <td>0.202152</td>\n",
       "    </tr>\n",
       "    <tr>\n",
       "      <th>Jueves</th>\n",
       "      <td>10251</td>\n",
       "      <td>2045</td>\n",
       "      <td>0.199493</td>\n",
       "    </tr>\n",
       "    <tr>\n",
       "      <th>Miercoles</th>\n",
       "      <td>9722</td>\n",
       "      <td>1661</td>\n",
       "      <td>0.170850</td>\n",
       "    </tr>\n",
       "    <tr>\n",
       "      <th>Martes</th>\n",
       "      <td>9662</td>\n",
       "      <td>1634</td>\n",
       "      <td>0.169116</td>\n",
       "    </tr>\n",
       "    <tr>\n",
       "      <th>Sabado</th>\n",
       "      <td>8352</td>\n",
       "      <td>1363</td>\n",
       "      <td>0.163194</td>\n",
       "    </tr>\n",
       "    <tr>\n",
       "      <th>Domingo</th>\n",
       "      <td>9796</td>\n",
       "      <td>1578</td>\n",
       "      <td>0.161086</td>\n",
       "    </tr>\n",
       "  </tbody>\n",
       "</table>\n",
       "</div>"
      ],
      "text/plain": [
       "           Total_vuelos  retrasos  tasa_retraso\n",
       "DIANOM                                         \n",
       "Viernes           10292      2285      0.222017\n",
       "Lunes             10131      2048      0.202152\n",
       "Jueves            10251      2045      0.199493\n",
       "Miercoles          9722      1661      0.170850\n",
       "Martes             9662      1634      0.169116\n",
       "Sabado             8352      1363      0.163194\n",
       "Domingo            9796      1578      0.161086"
      ]
     },
     "execution_count": 33,
     "metadata": {},
     "output_type": "execute_result"
    }
   ],
   "source": [
    "#TASA DE RETRASO POR DIANOM\n",
    "retraso_dianom = df[['atraso_15', 'DIANOM']]\n",
    "retraso_dianom = retraso_dianom.groupby('DIANOM').count()\n",
    "retraso_dianom.rename(columns={'atraso_15':'Total_vuelos'}, inplace=True)\n",
    "retraso_dianom['retrasos'] = df[['atraso_15', 'DIANOM']].groupby('DIANOM').sum()\n",
    "retraso_dianom['tasa_retraso']=(retraso_dianom['retrasos'])/(retraso_dianom['Total_vuelos'])\n",
    "retraso_dianom =retraso_dianom.sort_values('tasa_retraso', ascending=False)\n",
    "retraso_dianom"
   ]
  },
  {
   "cell_type": "code",
   "execution_count": 34,
   "id": "aa805d52",
   "metadata": {},
   "outputs": [
    {
     "data": {
      "text/html": [
       "<div>\n",
       "<style scoped>\n",
       "    .dataframe tbody tr th:only-of-type {\n",
       "        vertical-align: middle;\n",
       "    }\n",
       "\n",
       "    .dataframe tbody tr th {\n",
       "        vertical-align: top;\n",
       "    }\n",
       "\n",
       "    .dataframe thead th {\n",
       "        text-align: right;\n",
       "    }\n",
       "</style>\n",
       "<table border=\"1\" class=\"dataframe\">\n",
       "  <thead>\n",
       "    <tr style=\"text-align: right;\">\n",
       "      <th></th>\n",
       "      <th>Total_vuelos</th>\n",
       "      <th>retrasos</th>\n",
       "      <th>tasa_retraso</th>\n",
       "    </tr>\n",
       "    <tr>\n",
       "      <th>temporada_alta</th>\n",
       "      <th></th>\n",
       "      <th></th>\n",
       "      <th></th>\n",
       "    </tr>\n",
       "  </thead>\n",
       "  <tbody>\n",
       "    <tr>\n",
       "      <th>1</th>\n",
       "      <td>22379</td>\n",
       "      <td>4275</td>\n",
       "      <td>0.191027</td>\n",
       "    </tr>\n",
       "    <tr>\n",
       "      <th>0</th>\n",
       "      <td>45827</td>\n",
       "      <td>8339</td>\n",
       "      <td>0.181967</td>\n",
       "    </tr>\n",
       "  </tbody>\n",
       "</table>\n",
       "</div>"
      ],
      "text/plain": [
       "                Total_vuelos  retrasos  tasa_retraso\n",
       "temporada_alta                                      \n",
       "1                      22379      4275      0.191027\n",
       "0                      45827      8339      0.181967"
      ]
     },
     "execution_count": 34,
     "metadata": {},
     "output_type": "execute_result"
    }
   ],
   "source": [
    "#TASA DE RETRASO POR TEMPORADA\n",
    "retraso_temporada = df[['atraso_15', 'temporada_alta']]\n",
    "retraso_temporada = retraso_temporada.groupby('temporada_alta').count()\n",
    "retraso_temporada.rename(columns={'atraso_15':'Total_vuelos'}, inplace=True)\n",
    "retraso_temporada['retrasos'] = df[['atraso_15', 'temporada_alta']].groupby('temporada_alta').sum()\n",
    "retraso_temporada['tasa_retraso']=(retraso_temporada['retrasos'])/(retraso_temporada['Total_vuelos'])\n",
    "retraso_temporada =retraso_temporada.sort_values('tasa_retraso', ascending=False)\n",
    "retraso_temporada"
   ]
  },
  {
   "cell_type": "code",
   "execution_count": 35,
   "id": "e9fedfa3",
   "metadata": {
    "scrolled": true
   },
   "outputs": [
    {
     "data": {
      "text/html": [
       "<div>\n",
       "<style scoped>\n",
       "    .dataframe tbody tr th:only-of-type {\n",
       "        vertical-align: middle;\n",
       "    }\n",
       "\n",
       "    .dataframe tbody tr th {\n",
       "        vertical-align: top;\n",
       "    }\n",
       "\n",
       "    .dataframe thead th {\n",
       "        text-align: right;\n",
       "    }\n",
       "</style>\n",
       "<table border=\"1\" class=\"dataframe\">\n",
       "  <thead>\n",
       "    <tr style=\"text-align: right;\">\n",
       "      <th></th>\n",
       "      <th>Total_vuelos</th>\n",
       "      <th>retrasos</th>\n",
       "      <th>tasa_retraso</th>\n",
       "    </tr>\n",
       "    <tr>\n",
       "      <th>TIPOVUELO</th>\n",
       "      <th></th>\n",
       "      <th></th>\n",
       "      <th></th>\n",
       "    </tr>\n",
       "  </thead>\n",
       "  <tbody>\n",
       "    <tr>\n",
       "      <th>I</th>\n",
       "      <td>31240</td>\n",
       "      <td>7048</td>\n",
       "      <td>0.225608</td>\n",
       "    </tr>\n",
       "    <tr>\n",
       "      <th>N</th>\n",
       "      <td>36966</td>\n",
       "      <td>5566</td>\n",
       "      <td>0.150571</td>\n",
       "    </tr>\n",
       "  </tbody>\n",
       "</table>\n",
       "</div>"
      ],
      "text/plain": [
       "           Total_vuelos  retrasos  tasa_retraso\n",
       "TIPOVUELO                                      \n",
       "I                 31240      7048      0.225608\n",
       "N                 36966      5566      0.150571"
      ]
     },
     "execution_count": 35,
     "metadata": {},
     "output_type": "execute_result"
    }
   ],
   "source": [
    "#TASA DE RETRASO POR TIPO DE VUELO\n",
    "retraso_tipovuelo = df[['atraso_15', 'TIPOVUELO']]\n",
    "retraso_tipovuelo = retraso_tipovuelo.groupby('TIPOVUELO').count()\n",
    "retraso_tipovuelo.rename(columns={'atraso_15':'Total_vuelos'}, inplace=True)\n",
    "retraso_tipovuelo['retrasos'] = df[['atraso_15', 'TIPOVUELO']].groupby('TIPOVUELO').sum()\n",
    "retraso_tipovuelo['tasa_retraso']=(retraso_tipovuelo['retrasos'])/(retraso_tipovuelo['Total_vuelos'])\n",
    "retraso_tipovuelo =retraso_tipovuelo.sort_values('tasa_retraso', ascending=False)\n",
    "retraso_tipovuelo"
   ]
  },
  {
   "cell_type": "code",
   "execution_count": 64,
   "id": "dc6c3508",
   "metadata": {},
   "outputs": [],
   "source": [
    "retraso_tipovuelo.set_index('tasa_retraso')\n",
    "data_frames=[retraso_aerolinea,retraso_destino,retraso_dianom,retraso_mes,retraso_temporada,retraso_tipovuelo]\n",
    "merged_df = pd.concat(data_frames, axis=0)\n",
    "pd.DataFrame.to_csv(merged_df, 'synthetic_features.csv', sep=',', na_rep='.', index=False)\n"
   ]
  },
  {
   "cell_type": "markdown",
   "id": "733ada04",
   "metadata": {
    "heading_collapsed": true
   },
   "source": [
    "## Filtro de Destino y Aerolinea"
   ]
  },
  {
   "cell_type": "markdown",
   "id": "78444050",
   "metadata": {
    "hidden": true
   },
   "source": [
    "Dada la cantida de aerolineas y destinos que operan, se efectua un filtro para los dos casos. El filtro consiste en desestimar las aerolineas y destinos que hayan tenido una tasa de retras menor al 10%"
   ]
  },
  {
   "cell_type": "markdown",
   "id": "0b2c7a25",
   "metadata": {
    "hidden": true
   },
   "source": [
    "**DESTINO**"
   ]
  },
  {
   "cell_type": "code",
   "execution_count": 36,
   "id": "545573e0",
   "metadata": {
    "hidden": true
   },
   "outputs": [],
   "source": [
    "# Eliminamos los destinos que tienen una tasa de retraso menor al 10%. Se eliminin 12 destinos. \n",
    "destino_filter= retraso_destino['tasa_retraso']>=0.10\n",
    "destinos_retrasos = retraso_destino[destino_filter].index\n",
    "df=df[df['DESTINO'].isin(destinos_retrasos)]"
   ]
  },
  {
   "cell_type": "markdown",
   "id": "b5f5c310",
   "metadata": {
    "hidden": true
   },
   "source": [
    "**AEROLINEA**"
   ]
  },
  {
   "cell_type": "code",
   "execution_count": 37,
   "id": "85541592",
   "metadata": {
    "hidden": true
   },
   "outputs": [],
   "source": [
    "# Eliminamos las aerolineas que tienen una tasa de retraso menor al 10%.\n",
    "aero_filter= retraso_aerolinea['tasa_retraso']>=0.10\n",
    "aerolineas_retraso = retraso_aerolinea[aero_filter].index\n",
    "df=df[df['OPERA'].isin(aerolineas_retraso)]"
   ]
  },
  {
   "cell_type": "code",
   "execution_count": 38,
   "id": "9403c6a3",
   "metadata": {
    "hidden": true
   },
   "outputs": [
    {
     "data": {
      "text/plain": [
       "(62914, 13)"
      ]
     },
     "execution_count": 38,
     "metadata": {},
     "output_type": "execute_result"
    }
   ],
   "source": [
    "df.shape"
   ]
  },
  {
   "cell_type": "markdown",
   "id": "e31a12c9",
   "metadata": {
    "heading_collapsed": true
   },
   "source": [
    "# PREPROCESSING"
   ]
  },
  {
   "cell_type": "markdown",
   "id": "43982660",
   "metadata": {
    "hidden": true
   },
   "source": [
    "Una vez limpieado y dejado nuestra data orddenada podemos podemos hacer un preprocesamiento de los datos para luego hacer las predicciones."
   ]
  },
  {
   "cell_type": "code",
   "execution_count": 39,
   "id": "5a8cbf01",
   "metadata": {
    "hidden": true
   },
   "outputs": [
    {
     "data": {
      "text/plain": [
       "DIA                    int64\n",
       "MES                    int64\n",
       "AÑO                    int64\n",
       "DIANOM                object\n",
       "TIPOVUELO             object\n",
       "OPERA                 object\n",
       "DESTINO               object\n",
       "dif_min              float64\n",
       "atraso_15              int64\n",
       "temporada_alta      category\n",
       "periodo_dia         category\n",
       "Cambio_destino          bool\n",
       "Cambio_aerolinea        bool\n",
       "dtype: object"
      ]
     },
     "execution_count": 39,
     "metadata": {},
     "output_type": "execute_result"
    }
   ],
   "source": [
    "#Chequeamos caracteristicas de nuestros datos una \n",
    "df.dtypes"
   ]
  },
  {
   "cell_type": "code",
   "execution_count": 40,
   "id": "56bce722",
   "metadata": {
    "hidden": true
   },
   "outputs": [],
   "source": [
    "#Definimos nuestras features y nuetra variable a predecir.\n",
    "y=df['atraso_15']\n",
    "X=df.drop('atraso_15', axis=1)"
   ]
  },
  {
   "cell_type": "code",
   "execution_count": 41,
   "id": "a82e16ee",
   "metadata": {
    "hidden": true
   },
   "outputs": [],
   "source": [
    "#Dividimos nuestra data en train test para poder hacer preprocesing sobre train.\n",
    "X_train, X_test, y_train, y_test= train_test_split(X,y, test_size=0.2)"
   ]
  },
  {
   "cell_type": "code",
   "execution_count": 42,
   "id": "cd4645a4",
   "metadata": {
    "hidden": true
   },
   "outputs": [
    {
     "data": {
      "text/html": [
       "<style>#sk-ff7886a9-26c0-44f4-9ed5-d9401b998c9c {color: black;background-color: white;}#sk-ff7886a9-26c0-44f4-9ed5-d9401b998c9c pre{padding: 0;}#sk-ff7886a9-26c0-44f4-9ed5-d9401b998c9c div.sk-toggleable {background-color: white;}#sk-ff7886a9-26c0-44f4-9ed5-d9401b998c9c label.sk-toggleable__label {cursor: pointer;display: block;width: 100%;margin-bottom: 0;padding: 0.3em;box-sizing: border-box;text-align: center;}#sk-ff7886a9-26c0-44f4-9ed5-d9401b998c9c label.sk-toggleable__label-arrow:before {content: \"▸\";float: left;margin-right: 0.25em;color: #696969;}#sk-ff7886a9-26c0-44f4-9ed5-d9401b998c9c label.sk-toggleable__label-arrow:hover:before {color: black;}#sk-ff7886a9-26c0-44f4-9ed5-d9401b998c9c div.sk-estimator:hover label.sk-toggleable__label-arrow:before {color: black;}#sk-ff7886a9-26c0-44f4-9ed5-d9401b998c9c div.sk-toggleable__content {max-height: 0;max-width: 0;overflow: hidden;text-align: left;background-color: #f0f8ff;}#sk-ff7886a9-26c0-44f4-9ed5-d9401b998c9c div.sk-toggleable__content pre {margin: 0.2em;color: black;border-radius: 0.25em;background-color: #f0f8ff;}#sk-ff7886a9-26c0-44f4-9ed5-d9401b998c9c input.sk-toggleable__control:checked~div.sk-toggleable__content {max-height: 200px;max-width: 100%;overflow: auto;}#sk-ff7886a9-26c0-44f4-9ed5-d9401b998c9c input.sk-toggleable__control:checked~label.sk-toggleable__label-arrow:before {content: \"▾\";}#sk-ff7886a9-26c0-44f4-9ed5-d9401b998c9c div.sk-estimator input.sk-toggleable__control:checked~label.sk-toggleable__label {background-color: #d4ebff;}#sk-ff7886a9-26c0-44f4-9ed5-d9401b998c9c div.sk-label input.sk-toggleable__control:checked~label.sk-toggleable__label {background-color: #d4ebff;}#sk-ff7886a9-26c0-44f4-9ed5-d9401b998c9c input.sk-hidden--visually {border: 0;clip: rect(1px 1px 1px 1px);clip: rect(1px, 1px, 1px, 1px);height: 1px;margin: -1px;overflow: hidden;padding: 0;position: absolute;width: 1px;}#sk-ff7886a9-26c0-44f4-9ed5-d9401b998c9c div.sk-estimator {font-family: monospace;background-color: #f0f8ff;border: 1px dotted black;border-radius: 0.25em;box-sizing: border-box;margin-bottom: 0.5em;}#sk-ff7886a9-26c0-44f4-9ed5-d9401b998c9c div.sk-estimator:hover {background-color: #d4ebff;}#sk-ff7886a9-26c0-44f4-9ed5-d9401b998c9c div.sk-parallel-item::after {content: \"\";width: 100%;border-bottom: 1px solid gray;flex-grow: 1;}#sk-ff7886a9-26c0-44f4-9ed5-d9401b998c9c div.sk-label:hover label.sk-toggleable__label {background-color: #d4ebff;}#sk-ff7886a9-26c0-44f4-9ed5-d9401b998c9c div.sk-serial::before {content: \"\";position: absolute;border-left: 1px solid gray;box-sizing: border-box;top: 2em;bottom: 0;left: 50%;}#sk-ff7886a9-26c0-44f4-9ed5-d9401b998c9c div.sk-serial {display: flex;flex-direction: column;align-items: center;background-color: white;padding-right: 0.2em;padding-left: 0.2em;}#sk-ff7886a9-26c0-44f4-9ed5-d9401b998c9c div.sk-item {z-index: 1;}#sk-ff7886a9-26c0-44f4-9ed5-d9401b998c9c div.sk-parallel {display: flex;align-items: stretch;justify-content: center;background-color: white;}#sk-ff7886a9-26c0-44f4-9ed5-d9401b998c9c div.sk-parallel::before {content: \"\";position: absolute;border-left: 1px solid gray;box-sizing: border-box;top: 2em;bottom: 0;left: 50%;}#sk-ff7886a9-26c0-44f4-9ed5-d9401b998c9c div.sk-parallel-item {display: flex;flex-direction: column;position: relative;background-color: white;}#sk-ff7886a9-26c0-44f4-9ed5-d9401b998c9c div.sk-parallel-item:first-child::after {align-self: flex-end;width: 50%;}#sk-ff7886a9-26c0-44f4-9ed5-d9401b998c9c div.sk-parallel-item:last-child::after {align-self: flex-start;width: 50%;}#sk-ff7886a9-26c0-44f4-9ed5-d9401b998c9c div.sk-parallel-item:only-child::after {width: 0;}#sk-ff7886a9-26c0-44f4-9ed5-d9401b998c9c div.sk-dashed-wrapped {border: 1px dashed gray;margin: 0 0.4em 0.5em 0.4em;box-sizing: border-box;padding-bottom: 0.4em;background-color: white;position: relative;}#sk-ff7886a9-26c0-44f4-9ed5-d9401b998c9c div.sk-label label {font-family: monospace;font-weight: bold;background-color: white;display: inline-block;line-height: 1.2em;}#sk-ff7886a9-26c0-44f4-9ed5-d9401b998c9c div.sk-label-container {position: relative;z-index: 2;text-align: center;}#sk-ff7886a9-26c0-44f4-9ed5-d9401b998c9c div.sk-container {/* jupyter's `normalize.less` sets `[hidden] { display: none; }` but bootstrap.min.css set `[hidden] { display: none !important; }` so we also need the `!important` here to be able to override the default hidden behavior on the sphinx rendered scikit-learn.org. See: https://github.com/scikit-learn/scikit-learn/issues/21755 */display: inline-block !important;position: relative;}#sk-ff7886a9-26c0-44f4-9ed5-d9401b998c9c div.sk-text-repr-fallback {display: none;}</style><div id=\"sk-ff7886a9-26c0-44f4-9ed5-d9401b998c9c\" class=\"sk-top-container\"><div class=\"sk-text-repr-fallback\"><pre>ColumnTransformer(remainder=&#x27;passthrough&#x27;,\n",
       "                  transformers=[(&#x27;pipeline&#x27;,\n",
       "                                 Pipeline(steps=[(&#x27;onehotencoder&#x27;,\n",
       "                                                  OneHotEncoder(handle_unknown=&#x27;ignore&#x27;,\n",
       "                                                                sparse=False))]),\n",
       "                                 &lt;sklearn.compose._column_transformer.make_column_selector object at 0x124834bb0&gt;)])</pre><b>Please rerun this cell to show the HTML repr or trust the notebook.</b></div><div class=\"sk-container\" hidden><div class=\"sk-item sk-dashed-wrapped\"><div class=\"sk-label-container\"><div class=\"sk-label sk-toggleable\"><input class=\"sk-toggleable__control sk-hidden--visually\" id=\"595acee0-89b2-4b55-898c-d16b5384813f\" type=\"checkbox\" ><label for=\"595acee0-89b2-4b55-898c-d16b5384813f\" class=\"sk-toggleable__label sk-toggleable__label-arrow\">ColumnTransformer</label><div class=\"sk-toggleable__content\"><pre>ColumnTransformer(remainder=&#x27;passthrough&#x27;,\n",
       "                  transformers=[(&#x27;pipeline&#x27;,\n",
       "                                 Pipeline(steps=[(&#x27;onehotencoder&#x27;,\n",
       "                                                  OneHotEncoder(handle_unknown=&#x27;ignore&#x27;,\n",
       "                                                                sparse=False))]),\n",
       "                                 &lt;sklearn.compose._column_transformer.make_column_selector object at 0x124834bb0&gt;)])</pre></div></div></div><div class=\"sk-parallel\"><div class=\"sk-parallel-item\"><div class=\"sk-item\"><div class=\"sk-label-container\"><div class=\"sk-label sk-toggleable\"><input class=\"sk-toggleable__control sk-hidden--visually\" id=\"7a0ce9bc-737f-44fd-8156-5e7edfc7b508\" type=\"checkbox\" ><label for=\"7a0ce9bc-737f-44fd-8156-5e7edfc7b508\" class=\"sk-toggleable__label sk-toggleable__label-arrow\">pipeline</label><div class=\"sk-toggleable__content\"><pre>&lt;sklearn.compose._column_transformer.make_column_selector object at 0x124834bb0&gt;</pre></div></div></div><div class=\"sk-serial\"><div class=\"sk-item\"><div class=\"sk-serial\"><div class=\"sk-item\"><div class=\"sk-estimator sk-toggleable\"><input class=\"sk-toggleable__control sk-hidden--visually\" id=\"3cf32997-02e6-4f36-b092-eaa6b3fcb7ad\" type=\"checkbox\" ><label for=\"3cf32997-02e6-4f36-b092-eaa6b3fcb7ad\" class=\"sk-toggleable__label sk-toggleable__label-arrow\">OneHotEncoder</label><div class=\"sk-toggleable__content\"><pre>OneHotEncoder(handle_unknown=&#x27;ignore&#x27;, sparse=False)</pre></div></div></div></div></div></div></div></div><div class=\"sk-parallel-item\"><div class=\"sk-item\"><div class=\"sk-label-container\"><div class=\"sk-label sk-toggleable\"><input class=\"sk-toggleable__control sk-hidden--visually\" id=\"7a4c63e5-71fa-4ff8-bd0a-e4e3221a5932\" type=\"checkbox\" ><label for=\"7a4c63e5-71fa-4ff8-bd0a-e4e3221a5932\" class=\"sk-toggleable__label sk-toggleable__label-arrow\">remainder</label><div class=\"sk-toggleable__content\"><pre></pre></div></div></div><div class=\"sk-serial\"><div class=\"sk-item\"><div class=\"sk-estimator sk-toggleable\"><input class=\"sk-toggleable__control sk-hidden--visually\" id=\"7ed4ea02-e6b2-46a8-aaf0-db2972db57f8\" type=\"checkbox\" ><label for=\"7ed4ea02-e6b2-46a8-aaf0-db2972db57f8\" class=\"sk-toggleable__label sk-toggleable__label-arrow\">passthrough</label><div class=\"sk-toggleable__content\"><pre>passthrough</pre></div></div></div></div></div></div></div></div></div></div>"
      ],
      "text/plain": [
       "ColumnTransformer(remainder='passthrough',\n",
       "                  transformers=[('pipeline',\n",
       "                                 Pipeline(steps=[('onehotencoder',\n",
       "                                                  OneHotEncoder(handle_unknown='ignore',\n",
       "                                                                sparse=False))]),\n",
       "                                 <sklearn.compose._column_transformer.make_column_selector object at 0x124834bb0>)])"
      ]
     },
     "execution_count": 42,
     "metadata": {},
     "output_type": "execute_result"
    }
   ],
   "source": [
    "# Creamos un pipeline para las features\n",
    "preproc_categorical_baseline = make_pipeline(\n",
    "    OneHotEncoder(handle_unknown=\"ignore\", sparse = False))\n",
    "\n",
    "preproc_baseline = make_column_transformer((preproc_categorical_baseline, \n",
    "                                            make_column_selector(dtype_include=[\"category\", \"int64\",'object'],\n",
    "                                                                 dtype_exclude=['bool','float64'])),\n",
    "                                           remainder=\"passthrough\")\n",
    "\n",
    "preproc_baseline"
   ]
  },
  {
   "cell_type": "code",
   "execution_count": 43,
   "id": "06000368",
   "metadata": {
    "hidden": true
   },
   "outputs": [
    {
     "data": {
      "text/plain": [
       "(50331, 127)"
      ]
     },
     "execution_count": 43,
     "metadata": {},
     "output_type": "execute_result"
    }
   ],
   "source": [
    "X_train_transformed = preproc_baseline.fit_transform(X_train)\n",
    "X_transformed_shape= X_train_transformed.shape\n",
    "X_transformed_shape"
   ]
  },
  {
   "cell_type": "code",
   "execution_count": 44,
   "id": "d092627f",
   "metadata": {
    "hidden": true
   },
   "outputs": [],
   "source": [
    "SimpleImputer.get_feature_names_out = (lambda self, names=None: self.feature_names_in_)\n",
    "columns = preproc_baseline.get_feature_names_out()\n"
   ]
  },
  {
   "cell_type": "code",
   "execution_count": 45,
   "id": "2caa470c",
   "metadata": {
    "hidden": true,
    "scrolled": true
   },
   "outputs": [],
   "source": [
    "#X_train_transformed = X_train_transformed.todense()\n",
    "X_train_transformed=pd.DataFrame(X_train_transformed, columns=preproc_baseline.get_feature_names_out())"
   ]
  },
  {
   "cell_type": "code",
   "execution_count": 46,
   "id": "1a9ec884",
   "metadata": {
    "hidden": true
   },
   "outputs": [],
   "source": [
    "#X_train_transformed=X_train_transformed[columns].astype('category')\n",
    "#X_train_transformed['remainder__dif_min']=X_train_transformed['remainder__dif_min'].astype('float64')"
   ]
  },
  {
   "cell_type": "code",
   "execution_count": 47,
   "id": "f303e6b1",
   "metadata": {
    "hidden": true
   },
   "outputs": [
    {
     "data": {
      "text/html": [
       "<div>\n",
       "<style scoped>\n",
       "    .dataframe tbody tr th:only-of-type {\n",
       "        vertical-align: middle;\n",
       "    }\n",
       "\n",
       "    .dataframe tbody tr th {\n",
       "        vertical-align: top;\n",
       "    }\n",
       "\n",
       "    .dataframe thead th {\n",
       "        text-align: right;\n",
       "    }\n",
       "</style>\n",
       "<table border=\"1\" class=\"dataframe\">\n",
       "  <thead>\n",
       "    <tr style=\"text-align: right;\">\n",
       "      <th></th>\n",
       "      <th>pipeline__DIA_1</th>\n",
       "      <th>pipeline__DIA_2</th>\n",
       "      <th>pipeline__DIA_3</th>\n",
       "      <th>pipeline__DIA_4</th>\n",
       "      <th>pipeline__DIA_5</th>\n",
       "      <th>pipeline__DIA_6</th>\n",
       "      <th>pipeline__DIA_7</th>\n",
       "      <th>pipeline__DIA_8</th>\n",
       "      <th>pipeline__DIA_9</th>\n",
       "      <th>pipeline__DIA_10</th>\n",
       "      <th>...</th>\n",
       "      <th>pipeline__DESTINO_Ushuia</th>\n",
       "      <th>pipeline__DESTINO_Valdivia</th>\n",
       "      <th>pipeline__temporada_alta_0</th>\n",
       "      <th>pipeline__temporada_alta_1</th>\n",
       "      <th>pipeline__periodo_dia_mañana</th>\n",
       "      <th>pipeline__periodo_dia_noche</th>\n",
       "      <th>pipeline__periodo_dia_tarde</th>\n",
       "      <th>remainder__dif_min</th>\n",
       "      <th>remainder__Cambio_destino</th>\n",
       "      <th>remainder__Cambio_aerolinea</th>\n",
       "    </tr>\n",
       "  </thead>\n",
       "  <tbody>\n",
       "    <tr>\n",
       "      <th>0</th>\n",
       "      <td>0.0</td>\n",
       "      <td>0.0</td>\n",
       "      <td>0.0</td>\n",
       "      <td>0.0</td>\n",
       "      <td>0.0</td>\n",
       "      <td>0.0</td>\n",
       "      <td>0.0</td>\n",
       "      <td>0.0</td>\n",
       "      <td>0.0</td>\n",
       "      <td>0.0</td>\n",
       "      <td>...</td>\n",
       "      <td>0.0</td>\n",
       "      <td>0.0</td>\n",
       "      <td>0.0</td>\n",
       "      <td>1.0</td>\n",
       "      <td>0.0</td>\n",
       "      <td>1.0</td>\n",
       "      <td>0.0</td>\n",
       "      <td>21.0</td>\n",
       "      <td>False</td>\n",
       "      <td>True</td>\n",
       "    </tr>\n",
       "    <tr>\n",
       "      <th>1</th>\n",
       "      <td>0.0</td>\n",
       "      <td>0.0</td>\n",
       "      <td>0.0</td>\n",
       "      <td>0.0</td>\n",
       "      <td>0.0</td>\n",
       "      <td>0.0</td>\n",
       "      <td>0.0</td>\n",
       "      <td>0.0</td>\n",
       "      <td>0.0</td>\n",
       "      <td>0.0</td>\n",
       "      <td>...</td>\n",
       "      <td>0.0</td>\n",
       "      <td>0.0</td>\n",
       "      <td>0.0</td>\n",
       "      <td>1.0</td>\n",
       "      <td>0.0</td>\n",
       "      <td>0.0</td>\n",
       "      <td>1.0</td>\n",
       "      <td>-4.0</td>\n",
       "      <td>False</td>\n",
       "      <td>True</td>\n",
       "    </tr>\n",
       "    <tr>\n",
       "      <th>2</th>\n",
       "      <td>0.0</td>\n",
       "      <td>0.0</td>\n",
       "      <td>0.0</td>\n",
       "      <td>1.0</td>\n",
       "      <td>0.0</td>\n",
       "      <td>0.0</td>\n",
       "      <td>0.0</td>\n",
       "      <td>0.0</td>\n",
       "      <td>0.0</td>\n",
       "      <td>0.0</td>\n",
       "      <td>...</td>\n",
       "      <td>0.0</td>\n",
       "      <td>0.0</td>\n",
       "      <td>0.0</td>\n",
       "      <td>1.0</td>\n",
       "      <td>1.0</td>\n",
       "      <td>0.0</td>\n",
       "      <td>0.0</td>\n",
       "      <td>-1.0</td>\n",
       "      <td>False</td>\n",
       "      <td>False</td>\n",
       "    </tr>\n",
       "    <tr>\n",
       "      <th>3</th>\n",
       "      <td>0.0</td>\n",
       "      <td>0.0</td>\n",
       "      <td>0.0</td>\n",
       "      <td>0.0</td>\n",
       "      <td>0.0</td>\n",
       "      <td>0.0</td>\n",
       "      <td>0.0</td>\n",
       "      <td>0.0</td>\n",
       "      <td>0.0</td>\n",
       "      <td>0.0</td>\n",
       "      <td>...</td>\n",
       "      <td>0.0</td>\n",
       "      <td>1.0</td>\n",
       "      <td>0.0</td>\n",
       "      <td>1.0</td>\n",
       "      <td>1.0</td>\n",
       "      <td>0.0</td>\n",
       "      <td>0.0</td>\n",
       "      <td>16.0</td>\n",
       "      <td>False</td>\n",
       "      <td>False</td>\n",
       "    </tr>\n",
       "    <tr>\n",
       "      <th>4</th>\n",
       "      <td>0.0</td>\n",
       "      <td>0.0</td>\n",
       "      <td>0.0</td>\n",
       "      <td>0.0</td>\n",
       "      <td>0.0</td>\n",
       "      <td>0.0</td>\n",
       "      <td>0.0</td>\n",
       "      <td>1.0</td>\n",
       "      <td>0.0</td>\n",
       "      <td>0.0</td>\n",
       "      <td>...</td>\n",
       "      <td>0.0</td>\n",
       "      <td>0.0</td>\n",
       "      <td>1.0</td>\n",
       "      <td>0.0</td>\n",
       "      <td>0.0</td>\n",
       "      <td>1.0</td>\n",
       "      <td>0.0</td>\n",
       "      <td>1.0</td>\n",
       "      <td>False</td>\n",
       "      <td>True</td>\n",
       "    </tr>\n",
       "    <tr>\n",
       "      <th>...</th>\n",
       "      <td>...</td>\n",
       "      <td>...</td>\n",
       "      <td>...</td>\n",
       "      <td>...</td>\n",
       "      <td>...</td>\n",
       "      <td>...</td>\n",
       "      <td>...</td>\n",
       "      <td>...</td>\n",
       "      <td>...</td>\n",
       "      <td>...</td>\n",
       "      <td>...</td>\n",
       "      <td>...</td>\n",
       "      <td>...</td>\n",
       "      <td>...</td>\n",
       "      <td>...</td>\n",
       "      <td>...</td>\n",
       "      <td>...</td>\n",
       "      <td>...</td>\n",
       "      <td>...</td>\n",
       "      <td>...</td>\n",
       "      <td>...</td>\n",
       "    </tr>\n",
       "    <tr>\n",
       "      <th>50326</th>\n",
       "      <td>0.0</td>\n",
       "      <td>0.0</td>\n",
       "      <td>0.0</td>\n",
       "      <td>0.0</td>\n",
       "      <td>0.0</td>\n",
       "      <td>0.0</td>\n",
       "      <td>0.0</td>\n",
       "      <td>0.0</td>\n",
       "      <td>0.0</td>\n",
       "      <td>1.0</td>\n",
       "      <td>...</td>\n",
       "      <td>0.0</td>\n",
       "      <td>0.0</td>\n",
       "      <td>1.0</td>\n",
       "      <td>0.0</td>\n",
       "      <td>1.0</td>\n",
       "      <td>0.0</td>\n",
       "      <td>0.0</td>\n",
       "      <td>-5.0</td>\n",
       "      <td>False</td>\n",
       "      <td>False</td>\n",
       "    </tr>\n",
       "    <tr>\n",
       "      <th>50327</th>\n",
       "      <td>0.0</td>\n",
       "      <td>0.0</td>\n",
       "      <td>0.0</td>\n",
       "      <td>0.0</td>\n",
       "      <td>0.0</td>\n",
       "      <td>0.0</td>\n",
       "      <td>1.0</td>\n",
       "      <td>0.0</td>\n",
       "      <td>0.0</td>\n",
       "      <td>0.0</td>\n",
       "      <td>...</td>\n",
       "      <td>0.0</td>\n",
       "      <td>0.0</td>\n",
       "      <td>1.0</td>\n",
       "      <td>0.0</td>\n",
       "      <td>0.0</td>\n",
       "      <td>1.0</td>\n",
       "      <td>0.0</td>\n",
       "      <td>-2.0</td>\n",
       "      <td>False</td>\n",
       "      <td>False</td>\n",
       "    </tr>\n",
       "    <tr>\n",
       "      <th>50328</th>\n",
       "      <td>0.0</td>\n",
       "      <td>0.0</td>\n",
       "      <td>0.0</td>\n",
       "      <td>0.0</td>\n",
       "      <td>0.0</td>\n",
       "      <td>0.0</td>\n",
       "      <td>0.0</td>\n",
       "      <td>0.0</td>\n",
       "      <td>0.0</td>\n",
       "      <td>0.0</td>\n",
       "      <td>...</td>\n",
       "      <td>0.0</td>\n",
       "      <td>0.0</td>\n",
       "      <td>1.0</td>\n",
       "      <td>0.0</td>\n",
       "      <td>1.0</td>\n",
       "      <td>0.0</td>\n",
       "      <td>0.0</td>\n",
       "      <td>5.0</td>\n",
       "      <td>False</td>\n",
       "      <td>False</td>\n",
       "    </tr>\n",
       "    <tr>\n",
       "      <th>50329</th>\n",
       "      <td>0.0</td>\n",
       "      <td>0.0</td>\n",
       "      <td>0.0</td>\n",
       "      <td>0.0</td>\n",
       "      <td>0.0</td>\n",
       "      <td>0.0</td>\n",
       "      <td>0.0</td>\n",
       "      <td>0.0</td>\n",
       "      <td>0.0</td>\n",
       "      <td>0.0</td>\n",
       "      <td>...</td>\n",
       "      <td>0.0</td>\n",
       "      <td>0.0</td>\n",
       "      <td>1.0</td>\n",
       "      <td>0.0</td>\n",
       "      <td>0.0</td>\n",
       "      <td>0.0</td>\n",
       "      <td>1.0</td>\n",
       "      <td>5.0</td>\n",
       "      <td>False</td>\n",
       "      <td>False</td>\n",
       "    </tr>\n",
       "    <tr>\n",
       "      <th>50330</th>\n",
       "      <td>0.0</td>\n",
       "      <td>0.0</td>\n",
       "      <td>0.0</td>\n",
       "      <td>0.0</td>\n",
       "      <td>0.0</td>\n",
       "      <td>0.0</td>\n",
       "      <td>0.0</td>\n",
       "      <td>0.0</td>\n",
       "      <td>0.0</td>\n",
       "      <td>1.0</td>\n",
       "      <td>...</td>\n",
       "      <td>0.0</td>\n",
       "      <td>1.0</td>\n",
       "      <td>1.0</td>\n",
       "      <td>0.0</td>\n",
       "      <td>0.0</td>\n",
       "      <td>0.0</td>\n",
       "      <td>1.0</td>\n",
       "      <td>7.0</td>\n",
       "      <td>False</td>\n",
       "      <td>False</td>\n",
       "    </tr>\n",
       "  </tbody>\n",
       "</table>\n",
       "<p>50331 rows × 127 columns</p>\n",
       "</div>"
      ],
      "text/plain": [
       "      pipeline__DIA_1 pipeline__DIA_2 pipeline__DIA_3 pipeline__DIA_4  \\\n",
       "0                 0.0             0.0             0.0             0.0   \n",
       "1                 0.0             0.0             0.0             0.0   \n",
       "2                 0.0             0.0             0.0             1.0   \n",
       "3                 0.0             0.0             0.0             0.0   \n",
       "4                 0.0             0.0             0.0             0.0   \n",
       "...               ...             ...             ...             ...   \n",
       "50326             0.0             0.0             0.0             0.0   \n",
       "50327             0.0             0.0             0.0             0.0   \n",
       "50328             0.0             0.0             0.0             0.0   \n",
       "50329             0.0             0.0             0.0             0.0   \n",
       "50330             0.0             0.0             0.0             0.0   \n",
       "\n",
       "      pipeline__DIA_5 pipeline__DIA_6 pipeline__DIA_7 pipeline__DIA_8  \\\n",
       "0                 0.0             0.0             0.0             0.0   \n",
       "1                 0.0             0.0             0.0             0.0   \n",
       "2                 0.0             0.0             0.0             0.0   \n",
       "3                 0.0             0.0             0.0             0.0   \n",
       "4                 0.0             0.0             0.0             1.0   \n",
       "...               ...             ...             ...             ...   \n",
       "50326             0.0             0.0             0.0             0.0   \n",
       "50327             0.0             0.0             1.0             0.0   \n",
       "50328             0.0             0.0             0.0             0.0   \n",
       "50329             0.0             0.0             0.0             0.0   \n",
       "50330             0.0             0.0             0.0             0.0   \n",
       "\n",
       "      pipeline__DIA_9 pipeline__DIA_10  ... pipeline__DESTINO_Ushuia  \\\n",
       "0                 0.0              0.0  ...                      0.0   \n",
       "1                 0.0              0.0  ...                      0.0   \n",
       "2                 0.0              0.0  ...                      0.0   \n",
       "3                 0.0              0.0  ...                      0.0   \n",
       "4                 0.0              0.0  ...                      0.0   \n",
       "...               ...              ...  ...                      ...   \n",
       "50326             0.0              1.0  ...                      0.0   \n",
       "50327             0.0              0.0  ...                      0.0   \n",
       "50328             0.0              0.0  ...                      0.0   \n",
       "50329             0.0              0.0  ...                      0.0   \n",
       "50330             0.0              1.0  ...                      0.0   \n",
       "\n",
       "      pipeline__DESTINO_Valdivia pipeline__temporada_alta_0  \\\n",
       "0                            0.0                        0.0   \n",
       "1                            0.0                        0.0   \n",
       "2                            0.0                        0.0   \n",
       "3                            1.0                        0.0   \n",
       "4                            0.0                        1.0   \n",
       "...                          ...                        ...   \n",
       "50326                        0.0                        1.0   \n",
       "50327                        0.0                        1.0   \n",
       "50328                        0.0                        1.0   \n",
       "50329                        0.0                        1.0   \n",
       "50330                        1.0                        1.0   \n",
       "\n",
       "      pipeline__temporada_alta_1 pipeline__periodo_dia_mañana  \\\n",
       "0                            1.0                          0.0   \n",
       "1                            1.0                          0.0   \n",
       "2                            1.0                          1.0   \n",
       "3                            1.0                          1.0   \n",
       "4                            0.0                          0.0   \n",
       "...                          ...                          ...   \n",
       "50326                        0.0                          1.0   \n",
       "50327                        0.0                          0.0   \n",
       "50328                        0.0                          1.0   \n",
       "50329                        0.0                          0.0   \n",
       "50330                        0.0                          0.0   \n",
       "\n",
       "      pipeline__periodo_dia_noche pipeline__periodo_dia_tarde  \\\n",
       "0                             1.0                         0.0   \n",
       "1                             0.0                         1.0   \n",
       "2                             0.0                         0.0   \n",
       "3                             0.0                         0.0   \n",
       "4                             1.0                         0.0   \n",
       "...                           ...                         ...   \n",
       "50326                         0.0                         0.0   \n",
       "50327                         1.0                         0.0   \n",
       "50328                         0.0                         0.0   \n",
       "50329                         0.0                         1.0   \n",
       "50330                         0.0                         1.0   \n",
       "\n",
       "      remainder__dif_min remainder__Cambio_destino remainder__Cambio_aerolinea  \n",
       "0                   21.0                     False                        True  \n",
       "1                   -4.0                     False                        True  \n",
       "2                   -1.0                     False                       False  \n",
       "3                   16.0                     False                       False  \n",
       "4                    1.0                     False                        True  \n",
       "...                  ...                       ...                         ...  \n",
       "50326               -5.0                     False                       False  \n",
       "50327               -2.0                     False                       False  \n",
       "50328                5.0                     False                       False  \n",
       "50329                5.0                     False                       False  \n",
       "50330                7.0                     False                       False  \n",
       "\n",
       "[50331 rows x 127 columns]"
      ]
     },
     "execution_count": 47,
     "metadata": {},
     "output_type": "execute_result"
    }
   ],
   "source": [
    "X_train_transformed"
   ]
  },
  {
   "cell_type": "code",
   "execution_count": 48,
   "id": "836fbd9d",
   "metadata": {
    "hidden": true
   },
   "outputs": [
    {
     "ename": "ValueError",
     "evalue": "Expected 2D array, got 1D array instead:\narray=[1 0 0 ... 0 0 0].\nReshape your data either using array.reshape(-1, 1) if your data has a single feature or array.reshape(1, -1) if it contains a single sample.",
     "output_type": "error",
     "traceback": [
      "\u001b[0;31m---------------------------------------------------------------------------\u001b[0m",
      "\u001b[0;31mValueError\u001b[0m                                Traceback (most recent call last)",
      "Input \u001b[0;32mIn [48]\u001b[0m, in \u001b[0;36m<module>\u001b[0;34m\u001b[0m\n\u001b[1;32m      1\u001b[0m \u001b[38;5;66;03m#Enconding\u001b[39;00m\n\u001b[1;32m      2\u001b[0m ohe \u001b[38;5;241m=\u001b[39m OneHotEncoder()\n\u001b[0;32m----> 3\u001b[0m y_train_transformed \u001b[38;5;241m=\u001b[39m \u001b[43mohe\u001b[49m\u001b[38;5;241;43m.\u001b[39;49m\u001b[43mfit\u001b[49m\u001b[43m(\u001b[49m\u001b[43my_train\u001b[49m\u001b[43m)\u001b[49m\n",
      "File \u001b[0;32m~/.pyenv/versions/3.8.6/envs/diabetic_retinopathy_DL/lib/python3.8/site-packages/sklearn/preprocessing/_encoders.py:461\u001b[0m, in \u001b[0;36mOneHotEncoder.fit\u001b[0;34m(self, X, y)\u001b[0m\n\u001b[1;32m    443\u001b[0m \u001b[38;5;124;03m\"\"\"\u001b[39;00m\n\u001b[1;32m    444\u001b[0m \u001b[38;5;124;03mFit OneHotEncoder to X.\u001b[39;00m\n\u001b[1;32m    445\u001b[0m \n\u001b[0;32m   (...)\u001b[0m\n\u001b[1;32m    458\u001b[0m \u001b[38;5;124;03m    Fitted encoder.\u001b[39;00m\n\u001b[1;32m    459\u001b[0m \u001b[38;5;124;03m\"\"\"\u001b[39;00m\n\u001b[1;32m    460\u001b[0m \u001b[38;5;28mself\u001b[39m\u001b[38;5;241m.\u001b[39m_validate_keywords()\n\u001b[0;32m--> 461\u001b[0m \u001b[38;5;28;43mself\u001b[39;49m\u001b[38;5;241;43m.\u001b[39;49m\u001b[43m_fit\u001b[49m\u001b[43m(\u001b[49m\u001b[43mX\u001b[49m\u001b[43m,\u001b[49m\u001b[43m \u001b[49m\u001b[43mhandle_unknown\u001b[49m\u001b[38;5;241;43m=\u001b[39;49m\u001b[38;5;28;43mself\u001b[39;49m\u001b[38;5;241;43m.\u001b[39;49m\u001b[43mhandle_unknown\u001b[49m\u001b[43m,\u001b[49m\u001b[43m \u001b[49m\u001b[43mforce_all_finite\u001b[49m\u001b[38;5;241;43m=\u001b[39;49m\u001b[38;5;124;43m\"\u001b[39;49m\u001b[38;5;124;43mallow-nan\u001b[39;49m\u001b[38;5;124;43m\"\u001b[39;49m\u001b[43m)\u001b[49m\n\u001b[1;32m    462\u001b[0m \u001b[38;5;28mself\u001b[39m\u001b[38;5;241m.\u001b[39mdrop_idx_ \u001b[38;5;241m=\u001b[39m \u001b[38;5;28mself\u001b[39m\u001b[38;5;241m.\u001b[39m_compute_drop_idx()\n\u001b[1;32m    463\u001b[0m \u001b[38;5;28;01mreturn\u001b[39;00m \u001b[38;5;28mself\u001b[39m\n",
      "File \u001b[0;32m~/.pyenv/versions/3.8.6/envs/diabetic_retinopathy_DL/lib/python3.8/site-packages/sklearn/preprocessing/_encoders.py:77\u001b[0m, in \u001b[0;36m_BaseEncoder._fit\u001b[0;34m(self, X, handle_unknown, force_all_finite)\u001b[0m\n\u001b[1;32m     75\u001b[0m \u001b[38;5;28mself\u001b[39m\u001b[38;5;241m.\u001b[39m_check_n_features(X, reset\u001b[38;5;241m=\u001b[39m\u001b[38;5;28;01mTrue\u001b[39;00m)\n\u001b[1;32m     76\u001b[0m \u001b[38;5;28mself\u001b[39m\u001b[38;5;241m.\u001b[39m_check_feature_names(X, reset\u001b[38;5;241m=\u001b[39m\u001b[38;5;28;01mTrue\u001b[39;00m)\n\u001b[0;32m---> 77\u001b[0m X_list, n_samples, n_features \u001b[38;5;241m=\u001b[39m \u001b[38;5;28;43mself\u001b[39;49m\u001b[38;5;241;43m.\u001b[39;49m\u001b[43m_check_X\u001b[49m\u001b[43m(\u001b[49m\n\u001b[1;32m     78\u001b[0m \u001b[43m    \u001b[49m\u001b[43mX\u001b[49m\u001b[43m,\u001b[49m\u001b[43m \u001b[49m\u001b[43mforce_all_finite\u001b[49m\u001b[38;5;241;43m=\u001b[39;49m\u001b[43mforce_all_finite\u001b[49m\n\u001b[1;32m     79\u001b[0m \u001b[43m\u001b[49m\u001b[43m)\u001b[49m\n\u001b[1;32m     80\u001b[0m \u001b[38;5;28mself\u001b[39m\u001b[38;5;241m.\u001b[39mn_features_in_ \u001b[38;5;241m=\u001b[39m n_features\n\u001b[1;32m     82\u001b[0m \u001b[38;5;28;01mif\u001b[39;00m \u001b[38;5;28mself\u001b[39m\u001b[38;5;241m.\u001b[39mcategories \u001b[38;5;241m!=\u001b[39m \u001b[38;5;124m\"\u001b[39m\u001b[38;5;124mauto\u001b[39m\u001b[38;5;124m\"\u001b[39m:\n",
      "File \u001b[0;32m~/.pyenv/versions/3.8.6/envs/diabetic_retinopathy_DL/lib/python3.8/site-packages/sklearn/preprocessing/_encoders.py:44\u001b[0m, in \u001b[0;36m_BaseEncoder._check_X\u001b[0;34m(self, X, force_all_finite)\u001b[0m\n\u001b[1;32m     31\u001b[0m \u001b[38;5;124;03m\"\"\"\u001b[39;00m\n\u001b[1;32m     32\u001b[0m \u001b[38;5;124;03mPerform custom check_array:\u001b[39;00m\n\u001b[1;32m     33\u001b[0m \u001b[38;5;124;03m- convert list of strings to object dtype\u001b[39;00m\n\u001b[0;32m   (...)\u001b[0m\n\u001b[1;32m     40\u001b[0m \n\u001b[1;32m     41\u001b[0m \u001b[38;5;124;03m\"\"\"\u001b[39;00m\n\u001b[1;32m     42\u001b[0m \u001b[38;5;28;01mif\u001b[39;00m \u001b[38;5;129;01mnot\u001b[39;00m (\u001b[38;5;28mhasattr\u001b[39m(X, \u001b[38;5;124m\"\u001b[39m\u001b[38;5;124miloc\u001b[39m\u001b[38;5;124m\"\u001b[39m) \u001b[38;5;129;01mand\u001b[39;00m \u001b[38;5;28mgetattr\u001b[39m(X, \u001b[38;5;124m\"\u001b[39m\u001b[38;5;124mndim\u001b[39m\u001b[38;5;124m\"\u001b[39m, \u001b[38;5;241m0\u001b[39m) \u001b[38;5;241m==\u001b[39m \u001b[38;5;241m2\u001b[39m):\n\u001b[1;32m     43\u001b[0m     \u001b[38;5;66;03m# if not a dataframe, do normal check_array validation\u001b[39;00m\n\u001b[0;32m---> 44\u001b[0m     X_temp \u001b[38;5;241m=\u001b[39m \u001b[43mcheck_array\u001b[49m\u001b[43m(\u001b[49m\u001b[43mX\u001b[49m\u001b[43m,\u001b[49m\u001b[43m \u001b[49m\u001b[43mdtype\u001b[49m\u001b[38;5;241;43m=\u001b[39;49m\u001b[38;5;28;43;01mNone\u001b[39;49;00m\u001b[43m,\u001b[49m\u001b[43m \u001b[49m\u001b[43mforce_all_finite\u001b[49m\u001b[38;5;241;43m=\u001b[39;49m\u001b[43mforce_all_finite\u001b[49m\u001b[43m)\u001b[49m\n\u001b[1;32m     45\u001b[0m     \u001b[38;5;28;01mif\u001b[39;00m \u001b[38;5;129;01mnot\u001b[39;00m \u001b[38;5;28mhasattr\u001b[39m(X, \u001b[38;5;124m\"\u001b[39m\u001b[38;5;124mdtype\u001b[39m\u001b[38;5;124m\"\u001b[39m) \u001b[38;5;129;01mand\u001b[39;00m np\u001b[38;5;241m.\u001b[39missubdtype(X_temp\u001b[38;5;241m.\u001b[39mdtype, np\u001b[38;5;241m.\u001b[39mstr_):\n\u001b[1;32m     46\u001b[0m         X \u001b[38;5;241m=\u001b[39m check_array(X, dtype\u001b[38;5;241m=\u001b[39m\u001b[38;5;28mobject\u001b[39m, force_all_finite\u001b[38;5;241m=\u001b[39mforce_all_finite)\n",
      "File \u001b[0;32m~/.pyenv/versions/3.8.6/envs/diabetic_retinopathy_DL/lib/python3.8/site-packages/sklearn/utils/validation.py:769\u001b[0m, in \u001b[0;36mcheck_array\u001b[0;34m(array, accept_sparse, accept_large_sparse, dtype, order, copy, force_all_finite, ensure_2d, allow_nd, ensure_min_samples, ensure_min_features, estimator)\u001b[0m\n\u001b[1;32m    767\u001b[0m     \u001b[38;5;66;03m# If input is 1D raise error\u001b[39;00m\n\u001b[1;32m    768\u001b[0m     \u001b[38;5;28;01mif\u001b[39;00m array\u001b[38;5;241m.\u001b[39mndim \u001b[38;5;241m==\u001b[39m \u001b[38;5;241m1\u001b[39m:\n\u001b[0;32m--> 769\u001b[0m         \u001b[38;5;28;01mraise\u001b[39;00m \u001b[38;5;167;01mValueError\u001b[39;00m(\n\u001b[1;32m    770\u001b[0m             \u001b[38;5;124m\"\u001b[39m\u001b[38;5;124mExpected 2D array, got 1D array instead:\u001b[39m\u001b[38;5;130;01m\\n\u001b[39;00m\u001b[38;5;124marray=\u001b[39m\u001b[38;5;132;01m{}\u001b[39;00m\u001b[38;5;124m.\u001b[39m\u001b[38;5;130;01m\\n\u001b[39;00m\u001b[38;5;124m\"\u001b[39m\n\u001b[1;32m    771\u001b[0m             \u001b[38;5;124m\"\u001b[39m\u001b[38;5;124mReshape your data either using array.reshape(-1, 1) if \u001b[39m\u001b[38;5;124m\"\u001b[39m\n\u001b[1;32m    772\u001b[0m             \u001b[38;5;124m\"\u001b[39m\u001b[38;5;124myour data has a single feature or array.reshape(1, -1) \u001b[39m\u001b[38;5;124m\"\u001b[39m\n\u001b[1;32m    773\u001b[0m             \u001b[38;5;124m\"\u001b[39m\u001b[38;5;124mif it contains a single sample.\u001b[39m\u001b[38;5;124m\"\u001b[39m\u001b[38;5;241m.\u001b[39mformat(array)\n\u001b[1;32m    774\u001b[0m         )\n\u001b[1;32m    776\u001b[0m \u001b[38;5;66;03m# make sure we actually converted to numeric:\u001b[39;00m\n\u001b[1;32m    777\u001b[0m \u001b[38;5;28;01mif\u001b[39;00m dtype_numeric \u001b[38;5;129;01mand\u001b[39;00m array\u001b[38;5;241m.\u001b[39mdtype\u001b[38;5;241m.\u001b[39mkind \u001b[38;5;129;01min\u001b[39;00m \u001b[38;5;124m\"\u001b[39m\u001b[38;5;124mOUSV\u001b[39m\u001b[38;5;124m\"\u001b[39m:\n",
      "\u001b[0;31mValueError\u001b[0m: Expected 2D array, got 1D array instead:\narray=[1 0 0 ... 0 0 0].\nReshape your data either using array.reshape(-1, 1) if your data has a single feature or array.reshape(1, -1) if it contains a single sample."
     ]
    }
   ],
   "source": [
    "#Enconding\n",
    "ohe = OneHotEncoder()\n",
    "y_train_transformed = ohe.fit(y_train)"
   ]
  },
  {
   "cell_type": "markdown",
   "id": "69781215",
   "metadata": {},
   "source": [
    "# MODELLING"
   ]
  },
  {
   "cell_type": "markdown",
   "id": "2811d177",
   "metadata": {},
   "source": [
    "xUna vez que tenemos nuestras variables independientes listas y encondeadas podemos pasar al modelo de predicción. En este caso se usara Support Vector Machine(SVM). En caso de que la metrica no sea optima se buscar otro."
   ]
  },
  {
   "cell_type": "code",
   "execution_count": null,
   "id": "289978fc",
   "metadata": {},
   "outputs": [],
   "source": [
    "X_test_transormed= preproc_baseline.transform(X_test)\n",
    "X_test_transormed=pd.DataFrame(X_test_transormed, columns=preproc_baseline.get_feature_names_out())\n",
    "X_test_transormed"
   ]
  },
  {
   "cell_type": "code",
   "execution_count": null,
   "id": "232df5a3",
   "metadata": {},
   "outputs": [],
   "source": [
    "forest_bcw = RandomForestClassifier(n_estimators=100, max_depth=5, class_weight='balanced_subsample')\n",
    "forest_bcw.fit(X_train_transformed, y_train)\n"
   ]
  },
  {
   "cell_type": "code",
   "execution_count": null,
   "id": "1d7789bc",
   "metadata": {},
   "outputs": [],
   "source": [
    "y_pred =forest_bcw.predict(X_test_transormed)"
   ]
  },
  {
   "cell_type": "code",
   "execution_count": null,
   "id": "6362bdb4",
   "metadata": {},
   "outputs": [],
   "source": [
    "forest_bcw.score(X_test_transormed, y_test)"
   ]
  },
  {
   "cell_type": "code",
   "execution_count": null,
   "id": "18ef0185",
   "metadata": {},
   "outputs": [],
   "source": [
    "from sklearn.metrics import confusion_matrix\n",
    "from sklearn.metrics import ConfusionMatrixDisplay\n",
    "\n",
    "restultado =confusion_matrix(y_test, y_pred, normalize='pred')"
   ]
  },
  {
   "cell_type": "code",
   "execution_count": null,
   "id": "5a522fb8",
   "metadata": {},
   "outputs": [],
   "source": [
    "ax = sns.heatmap(restultado, annot=True, cmap='Blues')\n",
    "\n",
    "ax.set_title('Seaborn Confusion Matrix with labels\\n\\n');\n",
    "ax.set_xlabel('\\nPredicted Values')\n",
    "ax.set_ylabel('Actual Values ');\n",
    "\n",
    "## Ticket labels - List must be in alphabetical order\n",
    "ax.xaxis.set_ticklabels(['False','True'])\n",
    "ax.yaxis.set_ticklabels(['False','True'])\n",
    "\n",
    "## Display the visualization of the Confusion Matrix.\n",
    "plt.show()"
   ]
  },
  {
   "cell_type": "markdown",
   "id": "6b75e985",
   "metadata": {},
   "source": [
    "# Resulados"
   ]
  },
  {
   "cell_type": "markdown",
   "id": "aea1c6ad",
   "metadata": {},
   "source": [
    "Lamentablemente no hemos podido probar modelos de manera optima y poder llegar a resultados satisfactorios. El mal resultado obtenido se puede deber principalmente al desbalanceo de las clases a predecir.\n",
    "Tambien el tratemiento des las features puede no ser el adecuado. Para mejorar los resultados se propone mas tiempo de investigación que nos permitan encontrar otras variables como ser el clima, el poder detrminar si el avion es el primer vuelo que efectua o no(generalmente las causas relacionadas la limpieza de las aeronaves y al tratemiento de equipajes sin las principales causas de retrasos).\n",
    "\n"
   ]
  },
  {
   "cell_type": "markdown",
   "id": "76c5c975",
   "metadata": {},
   "source": [
    "# Agradecimientos"
   ]
  },
  {
   "cell_type": "markdown",
   "id": "ec1ef465",
   "metadata": {},
   "source": [
    "No quiero dejar de mencionar que este ha sido mi primer experiencia en este tipo de entrevistas y de trabajos, ha sido rica como tal y me ha servido.Cualquier devolución sería de mucha ayuda para futuro. No tenido tiempo de un mejor desarrollo pero no quería dejar de enviar mi trabajo.\n",
    "\n",
    "Desde ya agradezo haberme tenido en cuenta.\n",
    "Saludos.-\n"
   ]
  },
  {
   "cell_type": "code",
   "execution_count": null,
   "id": "e56d0ef6",
   "metadata": {},
   "outputs": [],
   "source": []
  }
 ],
 "metadata": {
  "kernelspec": {
   "display_name": "Python 3 (ipykernel)",
   "language": "python",
   "name": "python3"
  },
  "language_info": {
   "codemirror_mode": {
    "name": "ipython",
    "version": 3
   },
   "file_extension": ".py",
   "mimetype": "text/x-python",
   "name": "python",
   "nbconvert_exporter": "python",
   "pygments_lexer": "ipython3",
   "version": "3.8.6"
  },
  "toc": {
   "base_numbering": 1,
   "nav_menu": {},
   "number_sections": true,
   "sideBar": true,
   "skip_h1_title": false,
   "title_cell": "Table of Contents",
   "title_sidebar": "Contents",
   "toc_cell": false,
   "toc_position": {
    "height": "calc(100% - 180px)",
    "left": "10px",
    "top": "150px",
    "width": "256px"
   },
   "toc_section_display": true,
   "toc_window_display": false
  }
 },
 "nbformat": 4,
 "nbformat_minor": 5
}
